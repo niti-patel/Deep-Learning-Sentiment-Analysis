{
  "nbformat": 4,
  "nbformat_minor": 0,
  "metadata": {
    "colab": {
      "provenance": [],
      "toc_visible": true,
      "machine_shape": "hm"
    },
    "kernelspec": {
      "name": "python3",
      "display_name": "Python 3"
    },
    "widgets": {
      "application/vnd.jupyter.widget-state+json": {
        "c3753b384a094eaf92850d0d87eeb07a": {
          "model_module": "@jupyter-widgets/controls",
          "model_name": "HBoxModel",
          "state": {
            "_view_name": "HBoxView",
            "_dom_classes": [],
            "_model_name": "HBoxModel",
            "_view_module": "@jupyter-widgets/controls",
            "_model_module_version": "1.5.0",
            "_view_count": null,
            "_view_module_version": "1.5.0",
            "box_style": "",
            "layout": "IPY_MODEL_32621f50ed674bfb8df7b680fb77df90",
            "_model_module": "@jupyter-widgets/controls",
            "children": [
              "IPY_MODEL_3423eec85e7a43649539d84205050631",
              "IPY_MODEL_89585c793fd34439957475af7487080a"
            ]
          },
          "model_module_version": "1.5.0"
        },
        "32621f50ed674bfb8df7b680fb77df90": {
          "model_module": "@jupyter-widgets/base",
          "model_name": "LayoutModel",
          "state": {
            "_view_name": "LayoutView",
            "grid_template_rows": null,
            "right": null,
            "justify_content": null,
            "_view_module": "@jupyter-widgets/base",
            "overflow": null,
            "_model_module_version": "1.2.0",
            "_view_count": null,
            "flex_flow": null,
            "width": null,
            "min_width": null,
            "border": null,
            "align_items": null,
            "bottom": null,
            "_model_module": "@jupyter-widgets/base",
            "top": null,
            "grid_column": null,
            "overflow_y": null,
            "overflow_x": null,
            "grid_auto_flow": null,
            "grid_area": null,
            "grid_template_columns": null,
            "flex": null,
            "_model_name": "LayoutModel",
            "justify_items": null,
            "grid_row": null,
            "max_height": null,
            "align_content": null,
            "visibility": null,
            "align_self": null,
            "height": null,
            "min_height": null,
            "padding": null,
            "grid_auto_rows": null,
            "grid_gap": null,
            "max_width": null,
            "order": null,
            "_view_module_version": "1.2.0",
            "grid_template_areas": null,
            "object_position": null,
            "object_fit": null,
            "grid_auto_columns": null,
            "margin": null,
            "display": null,
            "left": null
          },
          "model_module_version": "1.2.0"
        },
        "3423eec85e7a43649539d84205050631": {
          "model_module": "@jupyter-widgets/controls",
          "model_name": "IntProgressModel",
          "state": {
            "_view_name": "ProgressView",
            "style": "IPY_MODEL_aed512329b034ad396386cd7c0870212",
            "_dom_classes": [],
            "description": "100%",
            "_model_name": "IntProgressModel",
            "bar_style": "success",
            "max": 25000,
            "_view_module": "@jupyter-widgets/controls",
            "_model_module_version": "1.5.0",
            "value": 25000,
            "_view_count": null,
            "_view_module_version": "1.5.0",
            "orientation": "horizontal",
            "min": 0,
            "description_tooltip": null,
            "_model_module": "@jupyter-widgets/controls",
            "layout": "IPY_MODEL_68bb8a0cce2f4dcc821c451e2287e15f"
          },
          "model_module_version": "1.5.0"
        },
        "89585c793fd34439957475af7487080a": {
          "model_module": "@jupyter-widgets/controls",
          "model_name": "HTMLModel",
          "state": {
            "_view_name": "HTMLView",
            "style": "IPY_MODEL_88e6ca1668e64cc7b26afff6a52469d2",
            "_dom_classes": [],
            "description": "",
            "_model_name": "HTMLModel",
            "placeholder": "​",
            "_view_module": "@jupyter-widgets/controls",
            "_model_module_version": "1.5.0",
            "value": " 25000/25000 [03:57&lt;00:00, 105.13it/s]",
            "_view_count": null,
            "_view_module_version": "1.5.0",
            "description_tooltip": null,
            "_model_module": "@jupyter-widgets/controls",
            "layout": "IPY_MODEL_56fec906c85745dab31a2c2916a673fb"
          },
          "model_module_version": "1.5.0"
        },
        "aed512329b034ad396386cd7c0870212": {
          "model_module": "@jupyter-widgets/controls",
          "model_name": "ProgressStyleModel",
          "state": {
            "_view_name": "StyleView",
            "_model_name": "ProgressStyleModel",
            "description_width": "initial",
            "_view_module": "@jupyter-widgets/base",
            "_model_module_version": "1.5.0",
            "_view_count": null,
            "_view_module_version": "1.2.0",
            "bar_color": null,
            "_model_module": "@jupyter-widgets/controls"
          },
          "model_module_version": "1.5.0"
        },
        "68bb8a0cce2f4dcc821c451e2287e15f": {
          "model_module": "@jupyter-widgets/base",
          "model_name": "LayoutModel",
          "state": {
            "_view_name": "LayoutView",
            "grid_template_rows": null,
            "right": null,
            "justify_content": null,
            "_view_module": "@jupyter-widgets/base",
            "overflow": null,
            "_model_module_version": "1.2.0",
            "_view_count": null,
            "flex_flow": null,
            "width": null,
            "min_width": null,
            "border": null,
            "align_items": null,
            "bottom": null,
            "_model_module": "@jupyter-widgets/base",
            "top": null,
            "grid_column": null,
            "overflow_y": null,
            "overflow_x": null,
            "grid_auto_flow": null,
            "grid_area": null,
            "grid_template_columns": null,
            "flex": null,
            "_model_name": "LayoutModel",
            "justify_items": null,
            "grid_row": null,
            "max_height": null,
            "align_content": null,
            "visibility": null,
            "align_self": null,
            "height": null,
            "min_height": null,
            "padding": null,
            "grid_auto_rows": null,
            "grid_gap": null,
            "max_width": null,
            "order": null,
            "_view_module_version": "1.2.0",
            "grid_template_areas": null,
            "object_position": null,
            "object_fit": null,
            "grid_auto_columns": null,
            "margin": null,
            "display": null,
            "left": null
          },
          "model_module_version": "1.2.0"
        },
        "88e6ca1668e64cc7b26afff6a52469d2": {
          "model_module": "@jupyter-widgets/controls",
          "model_name": "DescriptionStyleModel",
          "state": {
            "_view_name": "StyleView",
            "_model_name": "DescriptionStyleModel",
            "description_width": "",
            "_view_module": "@jupyter-widgets/base",
            "_model_module_version": "1.5.0",
            "_view_count": null,
            "_view_module_version": "1.2.0",
            "_model_module": "@jupyter-widgets/controls"
          },
          "model_module_version": "1.5.0"
        },
        "56fec906c85745dab31a2c2916a673fb": {
          "model_module": "@jupyter-widgets/base",
          "model_name": "LayoutModel",
          "state": {
            "_view_name": "LayoutView",
            "grid_template_rows": null,
            "right": null,
            "justify_content": null,
            "_view_module": "@jupyter-widgets/base",
            "overflow": null,
            "_model_module_version": "1.2.0",
            "_view_count": null,
            "flex_flow": null,
            "width": null,
            "min_width": null,
            "border": null,
            "align_items": null,
            "bottom": null,
            "_model_module": "@jupyter-widgets/base",
            "top": null,
            "grid_column": null,
            "overflow_y": null,
            "overflow_x": null,
            "grid_auto_flow": null,
            "grid_area": null,
            "grid_template_columns": null,
            "flex": null,
            "_model_name": "LayoutModel",
            "justify_items": null,
            "grid_row": null,
            "max_height": null,
            "align_content": null,
            "visibility": null,
            "align_self": null,
            "height": null,
            "min_height": null,
            "padding": null,
            "grid_auto_rows": null,
            "grid_gap": null,
            "max_width": null,
            "order": null,
            "_view_module_version": "1.2.0",
            "grid_template_areas": null,
            "object_position": null,
            "object_fit": null,
            "grid_auto_columns": null,
            "margin": null,
            "display": null,
            "left": null
          },
          "model_module_version": "1.2.0"
        },
        "b8d34a1bca864f6ea402d64a7b3d90ad": {
          "model_module": "@jupyter-widgets/controls",
          "model_name": "HBoxModel",
          "state": {
            "_view_name": "HBoxView",
            "_dom_classes": [],
            "_model_name": "HBoxModel",
            "_view_module": "@jupyter-widgets/controls",
            "_model_module_version": "1.5.0",
            "_view_count": null,
            "_view_module_version": "1.5.0",
            "box_style": "",
            "layout": "IPY_MODEL_c6e48926fc924d7c99bd50aa1af5de4e",
            "_model_module": "@jupyter-widgets/controls",
            "children": [
              "IPY_MODEL_0ea784c817f24dc99205055ee1523701",
              "IPY_MODEL_72de11dac3264d18907bc72140fab6aa"
            ]
          },
          "model_module_version": "1.5.0"
        },
        "c6e48926fc924d7c99bd50aa1af5de4e": {
          "model_module": "@jupyter-widgets/base",
          "model_name": "LayoutModel",
          "state": {
            "_view_name": "LayoutView",
            "grid_template_rows": null,
            "right": null,
            "justify_content": null,
            "_view_module": "@jupyter-widgets/base",
            "overflow": null,
            "_model_module_version": "1.2.0",
            "_view_count": null,
            "flex_flow": null,
            "width": null,
            "min_width": null,
            "border": null,
            "align_items": null,
            "bottom": null,
            "_model_module": "@jupyter-widgets/base",
            "top": null,
            "grid_column": null,
            "overflow_y": null,
            "overflow_x": null,
            "grid_auto_flow": null,
            "grid_area": null,
            "grid_template_columns": null,
            "flex": null,
            "_model_name": "LayoutModel",
            "justify_items": null,
            "grid_row": null,
            "max_height": null,
            "align_content": null,
            "visibility": null,
            "align_self": null,
            "height": null,
            "min_height": null,
            "padding": null,
            "grid_auto_rows": null,
            "grid_gap": null,
            "max_width": null,
            "order": null,
            "_view_module_version": "1.2.0",
            "grid_template_areas": null,
            "object_position": null,
            "object_fit": null,
            "grid_auto_columns": null,
            "margin": null,
            "display": null,
            "left": null
          },
          "model_module_version": "1.2.0"
        },
        "0ea784c817f24dc99205055ee1523701": {
          "model_module": "@jupyter-widgets/controls",
          "model_name": "IntProgressModel",
          "state": {
            "_view_name": "ProgressView",
            "style": "IPY_MODEL_644c63a82249471b9cf177dc0aa41382",
            "_dom_classes": [],
            "description": "100%",
            "_model_name": "IntProgressModel",
            "bar_style": "success",
            "max": 25000,
            "_view_module": "@jupyter-widgets/controls",
            "_model_module_version": "1.5.0",
            "value": 25000,
            "_view_count": null,
            "_view_module_version": "1.5.0",
            "orientation": "horizontal",
            "min": 0,
            "description_tooltip": null,
            "_model_module": "@jupyter-widgets/controls",
            "layout": "IPY_MODEL_fc33521501b749fe81ac6edb941884c9"
          },
          "model_module_version": "1.5.0"
        },
        "72de11dac3264d18907bc72140fab6aa": {
          "model_module": "@jupyter-widgets/controls",
          "model_name": "HTMLModel",
          "state": {
            "_view_name": "HTMLView",
            "style": "IPY_MODEL_ef2c1c5e901f4f168a92997a802ced3c",
            "_dom_classes": [],
            "description": "",
            "_model_name": "HTMLModel",
            "placeholder": "​",
            "_view_module": "@jupyter-widgets/controls",
            "_model_module_version": "1.5.0",
            "value": " 25000/25000 [02:54&lt;00:00, 143.18it/s]",
            "_view_count": null,
            "_view_module_version": "1.5.0",
            "description_tooltip": null,
            "_model_module": "@jupyter-widgets/controls",
            "layout": "IPY_MODEL_54273e0c298345c7aa1139cf081ad3fd"
          },
          "model_module_version": "1.5.0"
        },
        "644c63a82249471b9cf177dc0aa41382": {
          "model_module": "@jupyter-widgets/controls",
          "model_name": "ProgressStyleModel",
          "state": {
            "_view_name": "StyleView",
            "_model_name": "ProgressStyleModel",
            "description_width": "initial",
            "_view_module": "@jupyter-widgets/base",
            "_model_module_version": "1.5.0",
            "_view_count": null,
            "_view_module_version": "1.2.0",
            "bar_color": null,
            "_model_module": "@jupyter-widgets/controls"
          },
          "model_module_version": "1.5.0"
        },
        "fc33521501b749fe81ac6edb941884c9": {
          "model_module": "@jupyter-widgets/base",
          "model_name": "LayoutModel",
          "state": {
            "_view_name": "LayoutView",
            "grid_template_rows": null,
            "right": null,
            "justify_content": null,
            "_view_module": "@jupyter-widgets/base",
            "overflow": null,
            "_model_module_version": "1.2.0",
            "_view_count": null,
            "flex_flow": null,
            "width": null,
            "min_width": null,
            "border": null,
            "align_items": null,
            "bottom": null,
            "_model_module": "@jupyter-widgets/base",
            "top": null,
            "grid_column": null,
            "overflow_y": null,
            "overflow_x": null,
            "grid_auto_flow": null,
            "grid_area": null,
            "grid_template_columns": null,
            "flex": null,
            "_model_name": "LayoutModel",
            "justify_items": null,
            "grid_row": null,
            "max_height": null,
            "align_content": null,
            "visibility": null,
            "align_self": null,
            "height": null,
            "min_height": null,
            "padding": null,
            "grid_auto_rows": null,
            "grid_gap": null,
            "max_width": null,
            "order": null,
            "_view_module_version": "1.2.0",
            "grid_template_areas": null,
            "object_position": null,
            "object_fit": null,
            "grid_auto_columns": null,
            "margin": null,
            "display": null,
            "left": null
          },
          "model_module_version": "1.2.0"
        },
        "ef2c1c5e901f4f168a92997a802ced3c": {
          "model_module": "@jupyter-widgets/controls",
          "model_name": "DescriptionStyleModel",
          "state": {
            "_view_name": "StyleView",
            "_model_name": "DescriptionStyleModel",
            "description_width": "",
            "_view_module": "@jupyter-widgets/base",
            "_model_module_version": "1.5.0",
            "_view_count": null,
            "_view_module_version": "1.2.0",
            "_model_module": "@jupyter-widgets/controls"
          },
          "model_module_version": "1.5.0"
        },
        "54273e0c298345c7aa1139cf081ad3fd": {
          "model_module": "@jupyter-widgets/base",
          "model_name": "LayoutModel",
          "state": {
            "_view_name": "LayoutView",
            "grid_template_rows": null,
            "right": null,
            "justify_content": null,
            "_view_module": "@jupyter-widgets/base",
            "overflow": null,
            "_model_module_version": "1.2.0",
            "_view_count": null,
            "flex_flow": null,
            "width": null,
            "min_width": null,
            "border": null,
            "align_items": null,
            "bottom": null,
            "_model_module": "@jupyter-widgets/base",
            "top": null,
            "grid_column": null,
            "overflow_y": null,
            "overflow_x": null,
            "grid_auto_flow": null,
            "grid_area": null,
            "grid_template_columns": null,
            "flex": null,
            "_model_name": "LayoutModel",
            "justify_items": null,
            "grid_row": null,
            "max_height": null,
            "align_content": null,
            "visibility": null,
            "align_self": null,
            "height": null,
            "min_height": null,
            "padding": null,
            "grid_auto_rows": null,
            "grid_gap": null,
            "max_width": null,
            "order": null,
            "_view_module_version": "1.2.0",
            "grid_template_areas": null,
            "object_position": null,
            "object_fit": null,
            "grid_auto_columns": null,
            "margin": null,
            "display": null,
            "left": null
          },
          "model_module_version": "1.2.0"
        },
        "804a7f7beb2f427db510c01a2f0fcb05": {
          "model_module": "@jupyter-widgets/controls",
          "model_name": "HBoxModel",
          "state": {
            "_view_name": "HBoxView",
            "_dom_classes": [],
            "_model_name": "HBoxModel",
            "_view_module": "@jupyter-widgets/controls",
            "_model_module_version": "1.5.0",
            "_view_count": null,
            "_view_module_version": "1.5.0",
            "box_style": "",
            "layout": "IPY_MODEL_7c30ac9e1ce542278cbe0604392ace77",
            "_model_module": "@jupyter-widgets/controls",
            "children": [
              "IPY_MODEL_18a98384089f4107ac2e190338cc2530",
              "IPY_MODEL_60a39cf70fbb485aa462fde1ccc0c730"
            ]
          },
          "model_module_version": "1.5.0"
        },
        "7c30ac9e1ce542278cbe0604392ace77": {
          "model_module": "@jupyter-widgets/base",
          "model_name": "LayoutModel",
          "state": {
            "_view_name": "LayoutView",
            "grid_template_rows": null,
            "right": null,
            "justify_content": null,
            "_view_module": "@jupyter-widgets/base",
            "overflow": null,
            "_model_module_version": "1.2.0",
            "_view_count": null,
            "flex_flow": null,
            "width": null,
            "min_width": null,
            "border": null,
            "align_items": null,
            "bottom": null,
            "_model_module": "@jupyter-widgets/base",
            "top": null,
            "grid_column": null,
            "overflow_y": null,
            "overflow_x": null,
            "grid_auto_flow": null,
            "grid_area": null,
            "grid_template_columns": null,
            "flex": null,
            "_model_name": "LayoutModel",
            "justify_items": null,
            "grid_row": null,
            "max_height": null,
            "align_content": null,
            "visibility": null,
            "align_self": null,
            "height": null,
            "min_height": null,
            "padding": null,
            "grid_auto_rows": null,
            "grid_gap": null,
            "max_width": null,
            "order": null,
            "_view_module_version": "1.2.0",
            "grid_template_areas": null,
            "object_position": null,
            "object_fit": null,
            "grid_auto_columns": null,
            "margin": null,
            "display": null,
            "left": null
          },
          "model_module_version": "1.2.0"
        },
        "18a98384089f4107ac2e190338cc2530": {
          "model_module": "@jupyter-widgets/controls",
          "model_name": "IntProgressModel",
          "state": {
            "_view_name": "ProgressView",
            "style": "IPY_MODEL_aa182040fd44469aa7b7baaff8a19e48",
            "_dom_classes": [],
            "description": "100%",
            "_model_name": "IntProgressModel",
            "bar_style": "success",
            "max": 25000,
            "_view_module": "@jupyter-widgets/controls",
            "_model_module_version": "1.5.0",
            "value": 25000,
            "_view_count": null,
            "_view_module_version": "1.5.0",
            "orientation": "horizontal",
            "min": 0,
            "description_tooltip": null,
            "_model_module": "@jupyter-widgets/controls",
            "layout": "IPY_MODEL_79559545f8e94f98b62b0d0c7fbd457f"
          },
          "model_module_version": "1.5.0"
        },
        "60a39cf70fbb485aa462fde1ccc0c730": {
          "model_module": "@jupyter-widgets/controls",
          "model_name": "HTMLModel",
          "state": {
            "_view_name": "HTMLView",
            "style": "IPY_MODEL_5bfc0f32540e4c41b7b14a6330983cc6",
            "_dom_classes": [],
            "description": "",
            "_model_name": "HTMLModel",
            "placeholder": "​",
            "_view_module": "@jupyter-widgets/controls",
            "_model_module_version": "1.5.0",
            "value": " 25000/25000 [00:18&lt;00:00, 1340.66it/s]",
            "_view_count": null,
            "_view_module_version": "1.5.0",
            "description_tooltip": null,
            "_model_module": "@jupyter-widgets/controls",
            "layout": "IPY_MODEL_764ddbc4b6d148009f9a6eb9f60f1614"
          },
          "model_module_version": "1.5.0"
        },
        "aa182040fd44469aa7b7baaff8a19e48": {
          "model_module": "@jupyter-widgets/controls",
          "model_name": "ProgressStyleModel",
          "state": {
            "_view_name": "StyleView",
            "_model_name": "ProgressStyleModel",
            "description_width": "initial",
            "_view_module": "@jupyter-widgets/base",
            "_model_module_version": "1.5.0",
            "_view_count": null,
            "_view_module_version": "1.2.0",
            "bar_color": null,
            "_model_module": "@jupyter-widgets/controls"
          },
          "model_module_version": "1.5.0"
        },
        "79559545f8e94f98b62b0d0c7fbd457f": {
          "model_module": "@jupyter-widgets/base",
          "model_name": "LayoutModel",
          "state": {
            "_view_name": "LayoutView",
            "grid_template_rows": null,
            "right": null,
            "justify_content": null,
            "_view_module": "@jupyter-widgets/base",
            "overflow": null,
            "_model_module_version": "1.2.0",
            "_view_count": null,
            "flex_flow": null,
            "width": null,
            "min_width": null,
            "border": null,
            "align_items": null,
            "bottom": null,
            "_model_module": "@jupyter-widgets/base",
            "top": null,
            "grid_column": null,
            "overflow_y": null,
            "overflow_x": null,
            "grid_auto_flow": null,
            "grid_area": null,
            "grid_template_columns": null,
            "flex": null,
            "_model_name": "LayoutModel",
            "justify_items": null,
            "grid_row": null,
            "max_height": null,
            "align_content": null,
            "visibility": null,
            "align_self": null,
            "height": null,
            "min_height": null,
            "padding": null,
            "grid_auto_rows": null,
            "grid_gap": null,
            "max_width": null,
            "order": null,
            "_view_module_version": "1.2.0",
            "grid_template_areas": null,
            "object_position": null,
            "object_fit": null,
            "grid_auto_columns": null,
            "margin": null,
            "display": null,
            "left": null
          },
          "model_module_version": "1.2.0"
        },
        "5bfc0f32540e4c41b7b14a6330983cc6": {
          "model_module": "@jupyter-widgets/controls",
          "model_name": "DescriptionStyleModel",
          "state": {
            "_view_name": "StyleView",
            "_model_name": "DescriptionStyleModel",
            "description_width": "",
            "_view_module": "@jupyter-widgets/base",
            "_model_module_version": "1.5.0",
            "_view_count": null,
            "_view_module_version": "1.2.0",
            "_model_module": "@jupyter-widgets/controls"
          },
          "model_module_version": "1.5.0"
        },
        "764ddbc4b6d148009f9a6eb9f60f1614": {
          "model_module": "@jupyter-widgets/base",
          "model_name": "LayoutModel",
          "state": {
            "_view_name": "LayoutView",
            "grid_template_rows": null,
            "right": null,
            "justify_content": null,
            "_view_module": "@jupyter-widgets/base",
            "overflow": null,
            "_model_module_version": "1.2.0",
            "_view_count": null,
            "flex_flow": null,
            "width": null,
            "min_width": null,
            "border": null,
            "align_items": null,
            "bottom": null,
            "_model_module": "@jupyter-widgets/base",
            "top": null,
            "grid_column": null,
            "overflow_y": null,
            "overflow_x": null,
            "grid_auto_flow": null,
            "grid_area": null,
            "grid_template_columns": null,
            "flex": null,
            "_model_name": "LayoutModel",
            "justify_items": null,
            "grid_row": null,
            "max_height": null,
            "align_content": null,
            "visibility": null,
            "align_self": null,
            "height": null,
            "min_height": null,
            "padding": null,
            "grid_auto_rows": null,
            "grid_gap": null,
            "max_width": null,
            "order": null,
            "_view_module_version": "1.2.0",
            "grid_template_areas": null,
            "object_position": null,
            "object_fit": null,
            "grid_auto_columns": null,
            "margin": null,
            "display": null,
            "left": null
          },
          "model_module_version": "1.2.0"
        },
        "21b963c61c2444c08bb2870b45d1d6eb": {
          "model_module": "@jupyter-widgets/controls",
          "model_name": "HBoxModel",
          "state": {
            "_view_name": "HBoxView",
            "_dom_classes": [],
            "_model_name": "HBoxModel",
            "_view_module": "@jupyter-widgets/controls",
            "_model_module_version": "1.5.0",
            "_view_count": null,
            "_view_module_version": "1.5.0",
            "box_style": "",
            "layout": "IPY_MODEL_7a903b51b0fa4c15b524f1bf4fe5021e",
            "_model_module": "@jupyter-widgets/controls",
            "children": [
              "IPY_MODEL_3c3caf74300d46fa8e6a7d7ed2f091de",
              "IPY_MODEL_ee987ddeec25494881527e31283e0463"
            ]
          },
          "model_module_version": "1.5.0"
        },
        "7a903b51b0fa4c15b524f1bf4fe5021e": {
          "model_module": "@jupyter-widgets/base",
          "model_name": "LayoutModel",
          "state": {
            "_view_name": "LayoutView",
            "grid_template_rows": null,
            "right": null,
            "justify_content": null,
            "_view_module": "@jupyter-widgets/base",
            "overflow": null,
            "_model_module_version": "1.2.0",
            "_view_count": null,
            "flex_flow": null,
            "width": null,
            "min_width": null,
            "border": null,
            "align_items": null,
            "bottom": null,
            "_model_module": "@jupyter-widgets/base",
            "top": null,
            "grid_column": null,
            "overflow_y": null,
            "overflow_x": null,
            "grid_auto_flow": null,
            "grid_area": null,
            "grid_template_columns": null,
            "flex": null,
            "_model_name": "LayoutModel",
            "justify_items": null,
            "grid_row": null,
            "max_height": null,
            "align_content": null,
            "visibility": null,
            "align_self": null,
            "height": null,
            "min_height": null,
            "padding": null,
            "grid_auto_rows": null,
            "grid_gap": null,
            "max_width": null,
            "order": null,
            "_view_module_version": "1.2.0",
            "grid_template_areas": null,
            "object_position": null,
            "object_fit": null,
            "grid_auto_columns": null,
            "margin": null,
            "display": null,
            "left": null
          },
          "model_module_version": "1.2.0"
        },
        "3c3caf74300d46fa8e6a7d7ed2f091de": {
          "model_module": "@jupyter-widgets/controls",
          "model_name": "IntProgressModel",
          "state": {
            "_view_name": "ProgressView",
            "style": "IPY_MODEL_d1b1d37b418045d89383d6274f30ef7e",
            "_dom_classes": [],
            "description": "100%",
            "_model_name": "IntProgressModel",
            "bar_style": "success",
            "max": 25000,
            "_view_module": "@jupyter-widgets/controls",
            "_model_module_version": "1.5.0",
            "value": 25000,
            "_view_count": null,
            "_view_module_version": "1.5.0",
            "orientation": "horizontal",
            "min": 0,
            "description_tooltip": null,
            "_model_module": "@jupyter-widgets/controls",
            "layout": "IPY_MODEL_ed9236327b624914b56e686032970029"
          },
          "model_module_version": "1.5.0"
        },
        "ee987ddeec25494881527e31283e0463": {
          "model_module": "@jupyter-widgets/controls",
          "model_name": "HTMLModel",
          "state": {
            "_view_name": "HTMLView",
            "style": "IPY_MODEL_1c8b528906f947f29aca72a3eeadc95e",
            "_dom_classes": [],
            "description": "",
            "_model_name": "HTMLModel",
            "placeholder": "​",
            "_view_module": "@jupyter-widgets/controls",
            "_model_module_version": "1.5.0",
            "value": " 25000/25000 [00:09&lt;00:00, 2671.34it/s]",
            "_view_count": null,
            "_view_module_version": "1.5.0",
            "description_tooltip": null,
            "_model_module": "@jupyter-widgets/controls",
            "layout": "IPY_MODEL_da77169858b24d98a5f4f71af82ab8e1"
          },
          "model_module_version": "1.5.0"
        },
        "d1b1d37b418045d89383d6274f30ef7e": {
          "model_module": "@jupyter-widgets/controls",
          "model_name": "ProgressStyleModel",
          "state": {
            "_view_name": "StyleView",
            "_model_name": "ProgressStyleModel",
            "description_width": "initial",
            "_view_module": "@jupyter-widgets/base",
            "_model_module_version": "1.5.0",
            "_view_count": null,
            "_view_module_version": "1.2.0",
            "bar_color": null,
            "_model_module": "@jupyter-widgets/controls"
          },
          "model_module_version": "1.5.0"
        },
        "ed9236327b624914b56e686032970029": {
          "model_module": "@jupyter-widgets/base",
          "model_name": "LayoutModel",
          "state": {
            "_view_name": "LayoutView",
            "grid_template_rows": null,
            "right": null,
            "justify_content": null,
            "_view_module": "@jupyter-widgets/base",
            "overflow": null,
            "_model_module_version": "1.2.0",
            "_view_count": null,
            "flex_flow": null,
            "width": null,
            "min_width": null,
            "border": null,
            "align_items": null,
            "bottom": null,
            "_model_module": "@jupyter-widgets/base",
            "top": null,
            "grid_column": null,
            "overflow_y": null,
            "overflow_x": null,
            "grid_auto_flow": null,
            "grid_area": null,
            "grid_template_columns": null,
            "flex": null,
            "_model_name": "LayoutModel",
            "justify_items": null,
            "grid_row": null,
            "max_height": null,
            "align_content": null,
            "visibility": null,
            "align_self": null,
            "height": null,
            "min_height": null,
            "padding": null,
            "grid_auto_rows": null,
            "grid_gap": null,
            "max_width": null,
            "order": null,
            "_view_module_version": "1.2.0",
            "grid_template_areas": null,
            "object_position": null,
            "object_fit": null,
            "grid_auto_columns": null,
            "margin": null,
            "display": null,
            "left": null
          },
          "model_module_version": "1.2.0"
        },
        "1c8b528906f947f29aca72a3eeadc95e": {
          "model_module": "@jupyter-widgets/controls",
          "model_name": "DescriptionStyleModel",
          "state": {
            "_view_name": "StyleView",
            "_model_name": "DescriptionStyleModel",
            "description_width": "",
            "_view_module": "@jupyter-widgets/base",
            "_model_module_version": "1.5.0",
            "_view_count": null,
            "_view_module_version": "1.2.0",
            "_model_module": "@jupyter-widgets/controls"
          },
          "model_module_version": "1.5.0"
        },
        "da77169858b24d98a5f4f71af82ab8e1": {
          "model_module": "@jupyter-widgets/base",
          "model_name": "LayoutModel",
          "state": {
            "_view_name": "LayoutView",
            "grid_template_rows": null,
            "right": null,
            "justify_content": null,
            "_view_module": "@jupyter-widgets/base",
            "overflow": null,
            "_model_module_version": "1.2.0",
            "_view_count": null,
            "flex_flow": null,
            "width": null,
            "min_width": null,
            "border": null,
            "align_items": null,
            "bottom": null,
            "_model_module": "@jupyter-widgets/base",
            "top": null,
            "grid_column": null,
            "overflow_y": null,
            "overflow_x": null,
            "grid_auto_flow": null,
            "grid_area": null,
            "grid_template_columns": null,
            "flex": null,
            "_model_name": "LayoutModel",
            "justify_items": null,
            "grid_row": null,
            "max_height": null,
            "align_content": null,
            "visibility": null,
            "align_self": null,
            "height": null,
            "min_height": null,
            "padding": null,
            "grid_auto_rows": null,
            "grid_gap": null,
            "max_width": null,
            "order": null,
            "_view_module_version": "1.2.0",
            "grid_template_areas": null,
            "object_position": null,
            "object_fit": null,
            "grid_auto_columns": null,
            "margin": null,
            "display": null,
            "left": null
          },
          "model_module_version": "1.2.0"
        },
        "092e2d319ee642e3b279024ea6e49cea": {
          "model_module": "@jupyter-widgets/controls",
          "model_name": "HBoxModel",
          "state": {
            "_view_name": "HBoxView",
            "_dom_classes": [],
            "_model_name": "HBoxModel",
            "_view_module": "@jupyter-widgets/controls",
            "_model_module_version": "1.5.0",
            "_view_count": null,
            "_view_module_version": "1.5.0",
            "box_style": "",
            "layout": "IPY_MODEL_853ba4d53bac471a87bf39502febd9f8",
            "_model_module": "@jupyter-widgets/controls",
            "children": [
              "IPY_MODEL_00608f7ddb58426085d5ed81486201a9",
              "IPY_MODEL_d583b2047bc04ae28569d04be25b89cc"
            ]
          },
          "model_module_version": "1.5.0"
        },
        "853ba4d53bac471a87bf39502febd9f8": {
          "model_module": "@jupyter-widgets/base",
          "model_name": "LayoutModel",
          "state": {
            "_view_name": "LayoutView",
            "grid_template_rows": null,
            "right": null,
            "justify_content": null,
            "_view_module": "@jupyter-widgets/base",
            "overflow": null,
            "_model_module_version": "1.2.0",
            "_view_count": null,
            "flex_flow": null,
            "width": null,
            "min_width": null,
            "border": null,
            "align_items": null,
            "bottom": null,
            "_model_module": "@jupyter-widgets/base",
            "top": null,
            "grid_column": null,
            "overflow_y": null,
            "overflow_x": null,
            "grid_auto_flow": null,
            "grid_area": null,
            "grid_template_columns": null,
            "flex": null,
            "_model_name": "LayoutModel",
            "justify_items": null,
            "grid_row": null,
            "max_height": null,
            "align_content": null,
            "visibility": null,
            "align_self": null,
            "height": null,
            "min_height": null,
            "padding": null,
            "grid_auto_rows": null,
            "grid_gap": null,
            "max_width": null,
            "order": null,
            "_view_module_version": "1.2.0",
            "grid_template_areas": null,
            "object_position": null,
            "object_fit": null,
            "grid_auto_columns": null,
            "margin": null,
            "display": null,
            "left": null
          },
          "model_module_version": "1.2.0"
        },
        "00608f7ddb58426085d5ed81486201a9": {
          "model_module": "@jupyter-widgets/controls",
          "model_name": "IntProgressModel",
          "state": {
            "_view_name": "ProgressView",
            "style": "IPY_MODEL_dd3c030281fc42d1846a665f1fb917b7",
            "_dom_classes": [],
            "description": "100%",
            "_model_name": "IntProgressModel",
            "bar_style": "success",
            "max": 1000,
            "_view_module": "@jupyter-widgets/controls",
            "_model_module_version": "1.5.0",
            "value": 1000,
            "_view_count": null,
            "_view_module_version": "1.5.0",
            "orientation": "horizontal",
            "min": 0,
            "description_tooltip": null,
            "_model_module": "@jupyter-widgets/controls",
            "layout": "IPY_MODEL_48cfe32156434033a6ec507467e37d57"
          },
          "model_module_version": "1.5.0"
        },
        "d583b2047bc04ae28569d04be25b89cc": {
          "model_module": "@jupyter-widgets/controls",
          "model_name": "HTMLModel",
          "state": {
            "_view_name": "HTMLView",
            "style": "IPY_MODEL_27f7e6a48e5d4440a1a48c70ea9557c8",
            "_dom_classes": [],
            "description": "",
            "_model_name": "HTMLModel",
            "placeholder": "​",
            "_view_module": "@jupyter-widgets/controls",
            "_model_module_version": "1.5.0",
            "value": " 1000/1000 [42:25&lt;00:00,  2.55s/it]",
            "_view_count": null,
            "_view_module_version": "1.5.0",
            "description_tooltip": null,
            "_model_module": "@jupyter-widgets/controls",
            "layout": "IPY_MODEL_daa30fa996f04c35abd409f2a288a27d"
          },
          "model_module_version": "1.5.0"
        },
        "dd3c030281fc42d1846a665f1fb917b7": {
          "model_module": "@jupyter-widgets/controls",
          "model_name": "ProgressStyleModel",
          "state": {
            "_view_name": "StyleView",
            "_model_name": "ProgressStyleModel",
            "description_width": "initial",
            "_view_module": "@jupyter-widgets/base",
            "_model_module_version": "1.5.0",
            "_view_count": null,
            "_view_module_version": "1.2.0",
            "bar_color": null,
            "_model_module": "@jupyter-widgets/controls"
          },
          "model_module_version": "1.5.0"
        },
        "48cfe32156434033a6ec507467e37d57": {
          "model_module": "@jupyter-widgets/base",
          "model_name": "LayoutModel",
          "state": {
            "_view_name": "LayoutView",
            "grid_template_rows": null,
            "right": null,
            "justify_content": null,
            "_view_module": "@jupyter-widgets/base",
            "overflow": null,
            "_model_module_version": "1.2.0",
            "_view_count": null,
            "flex_flow": null,
            "width": null,
            "min_width": null,
            "border": null,
            "align_items": null,
            "bottom": null,
            "_model_module": "@jupyter-widgets/base",
            "top": null,
            "grid_column": null,
            "overflow_y": null,
            "overflow_x": null,
            "grid_auto_flow": null,
            "grid_area": null,
            "grid_template_columns": null,
            "flex": null,
            "_model_name": "LayoutModel",
            "justify_items": null,
            "grid_row": null,
            "max_height": null,
            "align_content": null,
            "visibility": null,
            "align_self": null,
            "height": null,
            "min_height": null,
            "padding": null,
            "grid_auto_rows": null,
            "grid_gap": null,
            "max_width": null,
            "order": null,
            "_view_module_version": "1.2.0",
            "grid_template_areas": null,
            "object_position": null,
            "object_fit": null,
            "grid_auto_columns": null,
            "margin": null,
            "display": null,
            "left": null
          },
          "model_module_version": "1.2.0"
        },
        "27f7e6a48e5d4440a1a48c70ea9557c8": {
          "model_module": "@jupyter-widgets/controls",
          "model_name": "DescriptionStyleModel",
          "state": {
            "_view_name": "StyleView",
            "_model_name": "DescriptionStyleModel",
            "description_width": "",
            "_view_module": "@jupyter-widgets/base",
            "_model_module_version": "1.5.0",
            "_view_count": null,
            "_view_module_version": "1.2.0",
            "_model_module": "@jupyter-widgets/controls"
          },
          "model_module_version": "1.5.0"
        },
        "daa30fa996f04c35abd409f2a288a27d": {
          "model_module": "@jupyter-widgets/base",
          "model_name": "LayoutModel",
          "state": {
            "_view_name": "LayoutView",
            "grid_template_rows": null,
            "right": null,
            "justify_content": null,
            "_view_module": "@jupyter-widgets/base",
            "overflow": null,
            "_model_module_version": "1.2.0",
            "_view_count": null,
            "flex_flow": null,
            "width": null,
            "min_width": null,
            "border": null,
            "align_items": null,
            "bottom": null,
            "_model_module": "@jupyter-widgets/base",
            "top": null,
            "grid_column": null,
            "overflow_y": null,
            "overflow_x": null,
            "grid_auto_flow": null,
            "grid_area": null,
            "grid_template_columns": null,
            "flex": null,
            "_model_name": "LayoutModel",
            "justify_items": null,
            "grid_row": null,
            "max_height": null,
            "align_content": null,
            "visibility": null,
            "align_self": null,
            "height": null,
            "min_height": null,
            "padding": null,
            "grid_auto_rows": null,
            "grid_gap": null,
            "max_width": null,
            "order": null,
            "_view_module_version": "1.2.0",
            "grid_template_areas": null,
            "object_position": null,
            "object_fit": null,
            "grid_auto_columns": null,
            "margin": null,
            "display": null,
            "left": null
          },
          "model_module_version": "1.2.0"
        },
        "6d6f98d7bbf74fd9a94b67c16e87d081": {
          "model_module": "@jupyter-widgets/controls",
          "model_name": "HBoxModel",
          "state": {
            "_view_name": "HBoxView",
            "_dom_classes": [],
            "_model_name": "HBoxModel",
            "_view_module": "@jupyter-widgets/controls",
            "_model_module_version": "1.5.0",
            "_view_count": null,
            "_view_module_version": "1.5.0",
            "box_style": "",
            "layout": "IPY_MODEL_8ddc35b2fa77458eb98debf15582ff45",
            "_model_module": "@jupyter-widgets/controls",
            "children": [
              "IPY_MODEL_05280f7f2c36458f9a84ba1fc2c26ceb",
              "IPY_MODEL_7b600b59757a4e829863cb0ef3d71779"
            ]
          },
          "model_module_version": "1.5.0"
        },
        "8ddc35b2fa77458eb98debf15582ff45": {
          "model_module": "@jupyter-widgets/base",
          "model_name": "LayoutModel",
          "state": {
            "_view_name": "LayoutView",
            "grid_template_rows": null,
            "right": null,
            "justify_content": null,
            "_view_module": "@jupyter-widgets/base",
            "overflow": null,
            "_model_module_version": "1.2.0",
            "_view_count": null,
            "flex_flow": null,
            "width": null,
            "min_width": null,
            "border": null,
            "align_items": null,
            "bottom": null,
            "_model_module": "@jupyter-widgets/base",
            "top": null,
            "grid_column": null,
            "overflow_y": null,
            "overflow_x": null,
            "grid_auto_flow": null,
            "grid_area": null,
            "grid_template_columns": null,
            "flex": null,
            "_model_name": "LayoutModel",
            "justify_items": null,
            "grid_row": null,
            "max_height": null,
            "align_content": null,
            "visibility": null,
            "align_self": null,
            "height": null,
            "min_height": null,
            "padding": null,
            "grid_auto_rows": null,
            "grid_gap": null,
            "max_width": null,
            "order": null,
            "_view_module_version": "1.2.0",
            "grid_template_areas": null,
            "object_position": null,
            "object_fit": null,
            "grid_auto_columns": null,
            "margin": null,
            "display": null,
            "left": null
          },
          "model_module_version": "1.2.0"
        },
        "05280f7f2c36458f9a84ba1fc2c26ceb": {
          "model_module": "@jupyter-widgets/controls",
          "model_name": "IntProgressModel",
          "state": {
            "_view_name": "ProgressView",
            "style": "IPY_MODEL_954a7e22a2b7438cab00da9695857169",
            "_dom_classes": [],
            "description": "100%",
            "_model_name": "IntProgressModel",
            "bar_style": "success",
            "max": 25000,
            "_view_module": "@jupyter-widgets/controls",
            "_model_module_version": "1.5.0",
            "value": 25000,
            "_view_count": null,
            "_view_module_version": "1.5.0",
            "orientation": "horizontal",
            "min": 0,
            "description_tooltip": null,
            "_model_module": "@jupyter-widgets/controls",
            "layout": "IPY_MODEL_a616fe587f4e4b80af8745177fb39bd9"
          },
          "model_module_version": "1.5.0"
        },
        "7b600b59757a4e829863cb0ef3d71779": {
          "model_module": "@jupyter-widgets/controls",
          "model_name": "HTMLModel",
          "state": {
            "_view_name": "HTMLView",
            "style": "IPY_MODEL_a1d180709f7946b4b185fb7d841b4a32",
            "_dom_classes": [],
            "description": "",
            "_model_name": "HTMLModel",
            "placeholder": "​",
            "_view_module": "@jupyter-widgets/controls",
            "_model_module_version": "1.5.0",
            "value": " 25000/25000 [00:09&lt;00:00, 2504.23it/s]",
            "_view_count": null,
            "_view_module_version": "1.5.0",
            "description_tooltip": null,
            "_model_module": "@jupyter-widgets/controls",
            "layout": "IPY_MODEL_19f773b29fe841c392dbcf63d8c28ab4"
          },
          "model_module_version": "1.5.0"
        },
        "954a7e22a2b7438cab00da9695857169": {
          "model_module": "@jupyter-widgets/controls",
          "model_name": "ProgressStyleModel",
          "state": {
            "_view_name": "StyleView",
            "_model_name": "ProgressStyleModel",
            "description_width": "initial",
            "_view_module": "@jupyter-widgets/base",
            "_model_module_version": "1.5.0",
            "_view_count": null,
            "_view_module_version": "1.2.0",
            "bar_color": null,
            "_model_module": "@jupyter-widgets/controls"
          },
          "model_module_version": "1.5.0"
        },
        "a616fe587f4e4b80af8745177fb39bd9": {
          "model_module": "@jupyter-widgets/base",
          "model_name": "LayoutModel",
          "state": {
            "_view_name": "LayoutView",
            "grid_template_rows": null,
            "right": null,
            "justify_content": null,
            "_view_module": "@jupyter-widgets/base",
            "overflow": null,
            "_model_module_version": "1.2.0",
            "_view_count": null,
            "flex_flow": null,
            "width": null,
            "min_width": null,
            "border": null,
            "align_items": null,
            "bottom": null,
            "_model_module": "@jupyter-widgets/base",
            "top": null,
            "grid_column": null,
            "overflow_y": null,
            "overflow_x": null,
            "grid_auto_flow": null,
            "grid_area": null,
            "grid_template_columns": null,
            "flex": null,
            "_model_name": "LayoutModel",
            "justify_items": null,
            "grid_row": null,
            "max_height": null,
            "align_content": null,
            "visibility": null,
            "align_self": null,
            "height": null,
            "min_height": null,
            "padding": null,
            "grid_auto_rows": null,
            "grid_gap": null,
            "max_width": null,
            "order": null,
            "_view_module_version": "1.2.0",
            "grid_template_areas": null,
            "object_position": null,
            "object_fit": null,
            "grid_auto_columns": null,
            "margin": null,
            "display": null,
            "left": null
          },
          "model_module_version": "1.2.0"
        },
        "a1d180709f7946b4b185fb7d841b4a32": {
          "model_module": "@jupyter-widgets/controls",
          "model_name": "DescriptionStyleModel",
          "state": {
            "_view_name": "StyleView",
            "_model_name": "DescriptionStyleModel",
            "description_width": "",
            "_view_module": "@jupyter-widgets/base",
            "_model_module_version": "1.5.0",
            "_view_count": null,
            "_view_module_version": "1.2.0",
            "_model_module": "@jupyter-widgets/controls"
          },
          "model_module_version": "1.5.0"
        },
        "19f773b29fe841c392dbcf63d8c28ab4": {
          "model_module": "@jupyter-widgets/base",
          "model_name": "LayoutModel",
          "state": {
            "_view_name": "LayoutView",
            "grid_template_rows": null,
            "right": null,
            "justify_content": null,
            "_view_module": "@jupyter-widgets/base",
            "overflow": null,
            "_model_module_version": "1.2.0",
            "_view_count": null,
            "flex_flow": null,
            "width": null,
            "min_width": null,
            "border": null,
            "align_items": null,
            "bottom": null,
            "_model_module": "@jupyter-widgets/base",
            "top": null,
            "grid_column": null,
            "overflow_y": null,
            "overflow_x": null,
            "grid_auto_flow": null,
            "grid_area": null,
            "grid_template_columns": null,
            "flex": null,
            "_model_name": "LayoutModel",
            "justify_items": null,
            "grid_row": null,
            "max_height": null,
            "align_content": null,
            "visibility": null,
            "align_self": null,
            "height": null,
            "min_height": null,
            "padding": null,
            "grid_auto_rows": null,
            "grid_gap": null,
            "max_width": null,
            "order": null,
            "_view_module_version": "1.2.0",
            "grid_template_areas": null,
            "object_position": null,
            "object_fit": null,
            "grid_auto_columns": null,
            "margin": null,
            "display": null,
            "left": null
          },
          "model_module_version": "1.2.0"
        },
        "789809de28ce4a4ba0245cf7015c552a": {
          "model_module": "@jupyter-widgets/controls",
          "model_name": "HBoxModel",
          "state": {
            "_view_name": "HBoxView",
            "_dom_classes": [],
            "_model_name": "HBoxModel",
            "_view_module": "@jupyter-widgets/controls",
            "_model_module_version": "1.5.0",
            "_view_count": null,
            "_view_module_version": "1.5.0",
            "box_style": "",
            "layout": "IPY_MODEL_fd62bc7b33b24e53a9d256654c93d5e9",
            "_model_module": "@jupyter-widgets/controls",
            "children": [
              "IPY_MODEL_60efdc3c4dd64f03abe73f96fd82c1ee",
              "IPY_MODEL_4ed4760d13b74e78b37f78b3eda2166b"
            ]
          },
          "model_module_version": "1.5.0"
        },
        "fd62bc7b33b24e53a9d256654c93d5e9": {
          "model_module": "@jupyter-widgets/base",
          "model_name": "LayoutModel",
          "state": {
            "_view_name": "LayoutView",
            "grid_template_rows": null,
            "right": null,
            "justify_content": null,
            "_view_module": "@jupyter-widgets/base",
            "overflow": null,
            "_model_module_version": "1.2.0",
            "_view_count": null,
            "flex_flow": null,
            "width": null,
            "min_width": null,
            "border": null,
            "align_items": null,
            "bottom": null,
            "_model_module": "@jupyter-widgets/base",
            "top": null,
            "grid_column": null,
            "overflow_y": null,
            "overflow_x": null,
            "grid_auto_flow": null,
            "grid_area": null,
            "grid_template_columns": null,
            "flex": null,
            "_model_name": "LayoutModel",
            "justify_items": null,
            "grid_row": null,
            "max_height": null,
            "align_content": null,
            "visibility": null,
            "align_self": null,
            "height": null,
            "min_height": null,
            "padding": null,
            "grid_auto_rows": null,
            "grid_gap": null,
            "max_width": null,
            "order": null,
            "_view_module_version": "1.2.0",
            "grid_template_areas": null,
            "object_position": null,
            "object_fit": null,
            "grid_auto_columns": null,
            "margin": null,
            "display": null,
            "left": null
          },
          "model_module_version": "1.2.0"
        },
        "60efdc3c4dd64f03abe73f96fd82c1ee": {
          "model_module": "@jupyter-widgets/controls",
          "model_name": "IntProgressModel",
          "state": {
            "_view_name": "ProgressView",
            "style": "IPY_MODEL_1710c40aeef64279a7c9651fb5a57d73",
            "_dom_classes": [],
            "description": "100%",
            "_model_name": "IntProgressModel",
            "bar_style": "success",
            "max": 150,
            "_view_module": "@jupyter-widgets/controls",
            "_model_module_version": "1.5.0",
            "value": 150,
            "_view_count": null,
            "_view_module_version": "1.5.0",
            "orientation": "horizontal",
            "min": 0,
            "description_tooltip": null,
            "_model_module": "@jupyter-widgets/controls",
            "layout": "IPY_MODEL_60fd9ed004b34bf6a8b7f23daeb64af8"
          },
          "model_module_version": "1.5.0"
        },
        "4ed4760d13b74e78b37f78b3eda2166b": {
          "model_module": "@jupyter-widgets/controls",
          "model_name": "HTMLModel",
          "state": {
            "_view_name": "HTMLView",
            "style": "IPY_MODEL_3ded2a66927444de83bc5722ec3d21b3",
            "_dom_classes": [],
            "description": "",
            "_model_name": "HTMLModel",
            "placeholder": "​",
            "_view_module": "@jupyter-widgets/controls",
            "_model_module_version": "1.5.0",
            "value": " 150/150 [38:23&lt;00:00, 15.36s/it]",
            "_view_count": null,
            "_view_module_version": "1.5.0",
            "description_tooltip": null,
            "_model_module": "@jupyter-widgets/controls",
            "layout": "IPY_MODEL_813ed2d39b654ec5a9f94bfc561e5743"
          },
          "model_module_version": "1.5.0"
        },
        "1710c40aeef64279a7c9651fb5a57d73": {
          "model_module": "@jupyter-widgets/controls",
          "model_name": "ProgressStyleModel",
          "state": {
            "_view_name": "StyleView",
            "_model_name": "ProgressStyleModel",
            "description_width": "initial",
            "_view_module": "@jupyter-widgets/base",
            "_model_module_version": "1.5.0",
            "_view_count": null,
            "_view_module_version": "1.2.0",
            "bar_color": null,
            "_model_module": "@jupyter-widgets/controls"
          },
          "model_module_version": "1.5.0"
        },
        "60fd9ed004b34bf6a8b7f23daeb64af8": {
          "model_module": "@jupyter-widgets/base",
          "model_name": "LayoutModel",
          "state": {
            "_view_name": "LayoutView",
            "grid_template_rows": null,
            "right": null,
            "justify_content": null,
            "_view_module": "@jupyter-widgets/base",
            "overflow": null,
            "_model_module_version": "1.2.0",
            "_view_count": null,
            "flex_flow": null,
            "width": null,
            "min_width": null,
            "border": null,
            "align_items": null,
            "bottom": null,
            "_model_module": "@jupyter-widgets/base",
            "top": null,
            "grid_column": null,
            "overflow_y": null,
            "overflow_x": null,
            "grid_auto_flow": null,
            "grid_area": null,
            "grid_template_columns": null,
            "flex": null,
            "_model_name": "LayoutModel",
            "justify_items": null,
            "grid_row": null,
            "max_height": null,
            "align_content": null,
            "visibility": null,
            "align_self": null,
            "height": null,
            "min_height": null,
            "padding": null,
            "grid_auto_rows": null,
            "grid_gap": null,
            "max_width": null,
            "order": null,
            "_view_module_version": "1.2.0",
            "grid_template_areas": null,
            "object_position": null,
            "object_fit": null,
            "grid_auto_columns": null,
            "margin": null,
            "display": null,
            "left": null
          },
          "model_module_version": "1.2.0"
        },
        "3ded2a66927444de83bc5722ec3d21b3": {
          "model_module": "@jupyter-widgets/controls",
          "model_name": "DescriptionStyleModel",
          "state": {
            "_view_name": "StyleView",
            "_model_name": "DescriptionStyleModel",
            "description_width": "",
            "_view_module": "@jupyter-widgets/base",
            "_model_module_version": "1.5.0",
            "_view_count": null,
            "_view_module_version": "1.2.0",
            "_model_module": "@jupyter-widgets/controls"
          },
          "model_module_version": "1.5.0"
        },
        "813ed2d39b654ec5a9f94bfc561e5743": {
          "model_module": "@jupyter-widgets/base",
          "model_name": "LayoutModel",
          "state": {
            "_view_name": "LayoutView",
            "grid_template_rows": null,
            "right": null,
            "justify_content": null,
            "_view_module": "@jupyter-widgets/base",
            "overflow": null,
            "_model_module_version": "1.2.0",
            "_view_count": null,
            "flex_flow": null,
            "width": null,
            "min_width": null,
            "border": null,
            "align_items": null,
            "bottom": null,
            "_model_module": "@jupyter-widgets/base",
            "top": null,
            "grid_column": null,
            "overflow_y": null,
            "overflow_x": null,
            "grid_auto_flow": null,
            "grid_area": null,
            "grid_template_columns": null,
            "flex": null,
            "_model_name": "LayoutModel",
            "justify_items": null,
            "grid_row": null,
            "max_height": null,
            "align_content": null,
            "visibility": null,
            "align_self": null,
            "height": null,
            "min_height": null,
            "padding": null,
            "grid_auto_rows": null,
            "grid_gap": null,
            "max_width": null,
            "order": null,
            "_view_module_version": "1.2.0",
            "grid_template_areas": null,
            "object_position": null,
            "object_fit": null,
            "grid_auto_columns": null,
            "margin": null,
            "display": null,
            "left": null
          },
          "model_module_version": "1.2.0"
        }
      }
    },
    "accelerator": "GPU"
  },
  "cells": [
    {
      "cell_type": "markdown",
      "metadata": {
        "id": "MGHoy6KpQDfZ"
      },
      "source": [
        "#**Natural Language Processing**\n"
      ]
    },
    {
      "cell_type": "markdown",
      "metadata": {
        "id": "34DVNKgqQY21"
      },
      "source": [
        "# 1 - Data Preprocessing"
      ]
    },
    {
      "cell_type": "markdown",
      "metadata": {
        "id": "7cWUxAQrGlq6"
      },
      "source": [
        "## 1.1. Download Dataset"
      ]
    },
    {
      "cell_type": "code",
      "metadata": {
        "id": "U7C4snIcNl22",
        "outputId": "7c4570eb-7c2d-41d8-f2a3-f4252492ba44",
        "colab": {
          "base_uri": "https://localhost:8080/",
          "height": 52
        }
      },
      "source": [
        "# Code to download file into Colaboratory:\n",
        "!pip install -U -q PyDrive\n",
        "from pydrive.auth import GoogleAuth\n",
        "from pydrive.drive import GoogleDrive\n",
        "from google.colab import auth\n",
        "from oauth2client.client import GoogleCredentials\n",
        "# Authenticate and create the PyDrive client.\n",
        "auth.authenticate_user()\n",
        "gauth = GoogleAuth()\n",
        "gauth.credentials = GoogleCredentials.get_application_default()\n",
        "drive = GoogleDrive(gauth)\n",
        "\n",
        "id = '1vF3FqgBC1Y-RPefeVmY8zetdZG1jmHzT'\n",
        "downloaded = drive.CreateFile({'id':id}) \n",
        "downloaded.GetContentFile('imdb_train.csv')\n",
        "\n",
        "id = '1XhaV8YMuQeSwozQww8PeyiWMJfia13G6'\n",
        "downloaded = drive.CreateFile({'id':id}) \n",
        "downloaded.GetContentFile('imdb_test.csv')\n",
        "\n",
        "import pandas as pd\n",
        "df_train = pd.read_csv(\"imdb_train.csv\")\n",
        "df_test = pd.read_csv(\"imdb_test.csv\")\n",
        "\n",
        "reviews_train = df_train['review'].tolist()\n",
        "sentiments_train = df_train['sentiment'].tolist()\n",
        "reviews_test = df_test['review'].tolist()\n",
        "sentiments_test = df_test['sentiment'].tolist()\n",
        "\n",
        "print(\"Training set number:\",len(reviews_train))\n",
        "print(\"Testing set number:\",len(reviews_test))"
      ],
      "execution_count": null,
      "outputs": [
        {
          "output_type": "stream",
          "text": [
            "Training set number: 25000\n",
            "Testing set number: 25000\n"
          ],
          "name": "stdout"
        }
      ]
    },
    {
      "cell_type": "markdown",
      "metadata": {
        "id": "l9gBSgBCQh24"
      },
      "source": [
        "## 1.2. Preprocess data"
      ]
    },
    {
      "cell_type": "markdown",
      "metadata": {
        "id": "8RdKI8E2KRwe"
      },
      "source": [
        "In the preprocessing stage, the following steps will be implemented:\n",
        "\n",
        "1. Case-folding \n",
        "2. Punctuation removal\n",
        "3. Tokenisation\n",
        "4. Stopwords removal\n",
        "5. Lemmatisation\n",
        "6. Stemming\n"
      ]
    },
    {
      "cell_type": "code",
      "metadata": {
        "id": "emyl1lWxGr12",
        "outputId": "40d21e93-fe70-47b3-dd95-84bca1478e91",
        "colab": {
          "base_uri": "https://localhost:8080/",
          "height": 194
        }
      },
      "source": [
        "# Firstly have a look at the raw data\n",
        "df_train.head()"
      ],
      "execution_count": null,
      "outputs": [
        {
          "output_type": "execute_result",
          "data": {
            "text/html": [
              "<div>\n",
              "<style scoped>\n",
              "    .dataframe tbody tr th:only-of-type {\n",
              "        vertical-align: middle;\n",
              "    }\n",
              "\n",
              "    .dataframe tbody tr th {\n",
              "        vertical-align: top;\n",
              "    }\n",
              "\n",
              "    .dataframe thead th {\n",
              "        text-align: right;\n",
              "    }\n",
              "</style>\n",
              "<table border=\"1\" class=\"dataframe\">\n",
              "  <thead>\n",
              "    <tr style=\"text-align: right;\">\n",
              "      <th></th>\n",
              "      <th>review</th>\n",
              "      <th>sentiment</th>\n",
              "    </tr>\n",
              "  </thead>\n",
              "  <tbody>\n",
              "    <tr>\n",
              "      <th>0</th>\n",
              "      <td>I enjoyed this movie. Haven't seen Andy Griffi...</td>\n",
              "      <td>pos</td>\n",
              "    </tr>\n",
              "    <tr>\n",
              "      <th>1</th>\n",
              "      <td>The whole does not even come close to the sum ...</td>\n",
              "      <td>pos</td>\n",
              "    </tr>\n",
              "    <tr>\n",
              "      <th>2</th>\n",
              "      <td>I'd never seen an independent movie and I was ...</td>\n",
              "      <td>pos</td>\n",
              "    </tr>\n",
              "    <tr>\n",
              "      <th>3</th>\n",
              "      <td>This unpleasant film has little to recommend i...</td>\n",
              "      <td>neg</td>\n",
              "    </tr>\n",
              "    <tr>\n",
              "      <th>4</th>\n",
              "      <td>It was meant to be a parody on the LOTR-Trilog...</td>\n",
              "      <td>neg</td>\n",
              "    </tr>\n",
              "  </tbody>\n",
              "</table>\n",
              "</div>"
            ],
            "text/plain": [
              "                                              review sentiment\n",
              "0  I enjoyed this movie. Haven't seen Andy Griffi...       pos\n",
              "1  The whole does not even come close to the sum ...       pos\n",
              "2  I'd never seen an independent movie and I was ...       pos\n",
              "3  This unpleasant film has little to recommend i...       neg\n",
              "4  It was meant to be a parody on the LOTR-Trilog...       neg"
            ]
          },
          "metadata": {
            "tags": []
          },
          "execution_count": 12
        }
      ]
    },
    {
      "cell_type": "markdown",
      "metadata": {
        "id": "gh0ulurM8tY0"
      },
      "source": [
        "It is easy to see that this dataframe `df_train` only contains two columns, one column for text - `review` and the other column is the label - `sentiment`.\n",
        "\n",
        "We can firstly split text and labels then  apply above 6 steps to the texts."
      ]
    },
    {
      "cell_type": "code",
      "metadata": {
        "id": "vkjaDLSS9Gg7",
        "outputId": "d438a524-99ad-4253-8faa-ec723f3c2943",
        "colab": {
          "base_uri": "https://localhost:8080/",
          "height": 126
        }
      },
      "source": [
        "def split_text_and_label(dataframe):\n",
        "  \"\"\"Split text and label for given dataframe.\"\"\"\n",
        "  text = dataframe['review'].tolist()\n",
        "  label = dataframe['sentiment'].tolist()\n",
        "  return text, label\n",
        "\n",
        "train_text, train_label = split_text_and_label(df_train)\n",
        "test_text, test_label = split_text_and_label(df_test)\n",
        "\n",
        "print(f'Length of train text={len(train_text)}, length of train label={len(train_label)}')\n",
        "print(f'Length of test text={len(test_text)}, length of test label={len(test_label)}')\n",
        "print(train_label[:2])\n",
        "print(test_label[:2])\n",
        "train_text[0]"
      ],
      "execution_count": null,
      "outputs": [
        {
          "output_type": "stream",
          "text": [
            "Length of train text=25000, length of train label=25000\n",
            "Length of test text=25000, length of test label=25000\n",
            "['pos', 'pos']\n",
            "['pos', 'neg']\n"
          ],
          "name": "stdout"
        },
        {
          "output_type": "execute_result",
          "data": {
            "text/plain": [
              "'I enjoyed this movie. Haven\\'t seen Andy Griffith in ages and felt he fit this role perfectly. I\\'ve associated him with comedy but am pleased to see that he\\'s versatile.<br /><br />I wasn\\'t troubled that Dotty\\'s \"anxiety disorder\" may not have been verbatim from a psychiatric textbook. There are zillions of whatever-phobias and neuroses, and these can take on a broad variety of quantitative and qualitative forms. She is clearly a sensitive with extra-sensory powers as was understood by the local Indians but not by any Anglos. It is not surprising that this character is vulnerable and nominally eccentric.<br /><br />Although this is taken to be a light \"family movie\", it is actually more sophisticated than it seems. Also, Hiram\\'s twist at the end came as a pleasant surprise to me and tied all the preceding action together in a bundle. It\\'s fun to contemplate the possibility of such spiritual guidance.'"
            ]
          },
          "metadata": {
            "tags": []
          },
          "execution_count": 13
        }
      ]
    },
    {
      "cell_type": "markdown",
      "metadata": {
        "id": "xAL-hPat-zbT"
      },
      "source": [
        "### 1.2.1 Punctuation Removal"
      ]
    },
    {
      "cell_type": "code",
      "metadata": {
        "id": "uWYN-JwI-5qm",
        "outputId": "550e5b91-19fb-43cd-e702-c83c8950d7bf",
        "colab": {
          "base_uri": "https://localhost:8080/",
          "height": 55
        }
      },
      "source": [
        "import string\n",
        "\n",
        "def remove_punctuation(s):\n",
        "  \"\"\"Remove punctuation in string s.\"\"\"\n",
        "  return s.translate(str.maketrans('', '', string.punctuation))\n",
        "\n",
        "train_text = [remove_punctuation(s) for s in train_text]\n",
        "test_text = [remove_punctuation(s) for s in test_text]\n",
        "\n",
        "train_text[0]"
      ],
      "execution_count": null,
      "outputs": [
        {
          "output_type": "execute_result",
          "data": {
            "text/plain": [
              "'I enjoyed this movie Havent seen Andy Griffith in ages and felt he fit this role perfectly Ive associated him with comedy but am pleased to see that hes versatilebr br I wasnt troubled that Dottys anxiety disorder may not have been verbatim from a psychiatric textbook There are zillions of whateverphobias and neuroses and these can take on a broad variety of quantitative and qualitative forms She is clearly a sensitive with extrasensory powers as was understood by the local Indians but not by any Anglos It is not surprising that this character is vulnerable and nominally eccentricbr br Although this is taken to be a light family movie it is actually more sophisticated than it seems Also Hirams twist at the end came as a pleasant surprise to me and tied all the preceding action together in a bundle Its fun to contemplate the possibility of such spiritual guidance'"
            ]
          },
          "metadata": {
            "tags": []
          },
          "execution_count": 14
        }
      ]
    },
    {
      "cell_type": "markdown",
      "metadata": {
        "id": "0fbKMk3m_-qe"
      },
      "source": [
        "### 1.2.2 Tokenisation"
      ]
    },
    {
      "cell_type": "code",
      "metadata": {
        "id": "2iW1OHTp_9_q",
        "colab": {
          "base_uri": "https://localhost:8080/",
          "height": 1000
        },
        "outputId": "ca762d5f-00f8-434c-87cc-5267992c9900"
      },
      "source": [
        "import nltk\n",
        "nltk.download('punkt')\n",
        "\n",
        "from nltk.tokenize import word_tokenize\n",
        "\n",
        "train_text = [word_tokenize(s) for s in train_text]\n",
        "test_text = [word_tokenize(s) for s in test_text]\n",
        "\n",
        "train_text[0]"
      ],
      "execution_count": null,
      "outputs": [
        {
          "output_type": "stream",
          "text": [
            "[nltk_data] Downloading package punkt to /root/nltk_data...\n",
            "[nltk_data]   Unzipping tokenizers/punkt.zip.\n"
          ],
          "name": "stdout"
        },
        {
          "output_type": "execute_result",
          "data": {
            "text/plain": [
              "['I',\n",
              " 'enjoyed',\n",
              " 'this',\n",
              " 'movie',\n",
              " 'Havent',\n",
              " 'seen',\n",
              " 'Andy',\n",
              " 'Griffith',\n",
              " 'in',\n",
              " 'ages',\n",
              " 'and',\n",
              " 'felt',\n",
              " 'he',\n",
              " 'fit',\n",
              " 'this',\n",
              " 'role',\n",
              " 'perfectly',\n",
              " 'Ive',\n",
              " 'associated',\n",
              " 'him',\n",
              " 'with',\n",
              " 'comedy',\n",
              " 'but',\n",
              " 'am',\n",
              " 'pleased',\n",
              " 'to',\n",
              " 'see',\n",
              " 'that',\n",
              " 'hes',\n",
              " 'versatilebr',\n",
              " 'br',\n",
              " 'I',\n",
              " 'wasnt',\n",
              " 'troubled',\n",
              " 'that',\n",
              " 'Dottys',\n",
              " 'anxiety',\n",
              " 'disorder',\n",
              " 'may',\n",
              " 'not',\n",
              " 'have',\n",
              " 'been',\n",
              " 'verbatim',\n",
              " 'from',\n",
              " 'a',\n",
              " 'psychiatric',\n",
              " 'textbook',\n",
              " 'There',\n",
              " 'are',\n",
              " 'zillions',\n",
              " 'of',\n",
              " 'whateverphobias',\n",
              " 'and',\n",
              " 'neuroses',\n",
              " 'and',\n",
              " 'these',\n",
              " 'can',\n",
              " 'take',\n",
              " 'on',\n",
              " 'a',\n",
              " 'broad',\n",
              " 'variety',\n",
              " 'of',\n",
              " 'quantitative',\n",
              " 'and',\n",
              " 'qualitative',\n",
              " 'forms',\n",
              " 'She',\n",
              " 'is',\n",
              " 'clearly',\n",
              " 'a',\n",
              " 'sensitive',\n",
              " 'with',\n",
              " 'extrasensory',\n",
              " 'powers',\n",
              " 'as',\n",
              " 'was',\n",
              " 'understood',\n",
              " 'by',\n",
              " 'the',\n",
              " 'local',\n",
              " 'Indians',\n",
              " 'but',\n",
              " 'not',\n",
              " 'by',\n",
              " 'any',\n",
              " 'Anglos',\n",
              " 'It',\n",
              " 'is',\n",
              " 'not',\n",
              " 'surprising',\n",
              " 'that',\n",
              " 'this',\n",
              " 'character',\n",
              " 'is',\n",
              " 'vulnerable',\n",
              " 'and',\n",
              " 'nominally',\n",
              " 'eccentricbr',\n",
              " 'br',\n",
              " 'Although',\n",
              " 'this',\n",
              " 'is',\n",
              " 'taken',\n",
              " 'to',\n",
              " 'be',\n",
              " 'a',\n",
              " 'light',\n",
              " 'family',\n",
              " 'movie',\n",
              " 'it',\n",
              " 'is',\n",
              " 'actually',\n",
              " 'more',\n",
              " 'sophisticated',\n",
              " 'than',\n",
              " 'it',\n",
              " 'seems',\n",
              " 'Also',\n",
              " 'Hirams',\n",
              " 'twist',\n",
              " 'at',\n",
              " 'the',\n",
              " 'end',\n",
              " 'came',\n",
              " 'as',\n",
              " 'a',\n",
              " 'pleasant',\n",
              " 'surprise',\n",
              " 'to',\n",
              " 'me',\n",
              " 'and',\n",
              " 'tied',\n",
              " 'all',\n",
              " 'the',\n",
              " 'preceding',\n",
              " 'action',\n",
              " 'together',\n",
              " 'in',\n",
              " 'a',\n",
              " 'bundle',\n",
              " 'Its',\n",
              " 'fun',\n",
              " 'to',\n",
              " 'contemplate',\n",
              " 'the',\n",
              " 'possibility',\n",
              " 'of',\n",
              " 'such',\n",
              " 'spiritual',\n",
              " 'guidance']"
            ]
          },
          "metadata": {
            "tags": []
          },
          "execution_count": 17
        }
      ]
    },
    {
      "cell_type": "markdown",
      "metadata": {
        "id": "u9Xfy0mJDlsG"
      },
      "source": [
        "### 1.2.3 Stopwords Removal"
      ]
    },
    {
      "cell_type": "code",
      "metadata": {
        "id": "mlSsPhNFDrEa",
        "outputId": "a3833c83-47f4-4f0f-80f5-6e4351019cee",
        "colab": {
          "base_uri": "https://localhost:8080/",
          "height": 1000
        }
      },
      "source": [
        "nltk.download('stopwords')\n",
        "from nltk.corpus import stopwords as sw\n",
        "from tqdm import tqdm\n",
        "\n",
        "stop_words = sw.words()\n",
        "\n",
        "\n",
        "def remove_stopwords(texts):\n",
        "  \"\"\"Remove stopwords in sentences of texts.\"\"\"\n",
        "  text_ns = []\n",
        "  for tokens in tqdm(texts):\n",
        "    filtered_tokens = [w for w in tokens if w not in stop_words]\n",
        "    text_ns.append(filtered_tokens)\n",
        "  return text_ns\n",
        "\n",
        "train_text_ns = remove_stopwords(train_text)\n",
        "test_text_ns = remove_stopwords(test_text)\n",
        "\n",
        "train_text_ns[0]"
      ],
      "execution_count": null,
      "outputs": [
        {
          "output_type": "stream",
          "text": [
            "\r  0%|          | 0/25000 [00:00<?, ?it/s]"
          ],
          "name": "stderr"
        },
        {
          "output_type": "stream",
          "text": [
            "[nltk_data] Downloading package stopwords to /root/nltk_data...\n",
            "[nltk_data]   Unzipping corpora/stopwords.zip.\n"
          ],
          "name": "stdout"
        },
        {
          "output_type": "stream",
          "text": [
            "100%|██████████| 25000/25000 [04:58<00:00, 83.66it/s]\n",
            "100%|██████████| 25000/25000 [04:46<00:00, 87.16it/s]\n"
          ],
          "name": "stderr"
        },
        {
          "output_type": "execute_result",
          "data": {
            "text/plain": [
              "['I',\n",
              " 'enjoyed',\n",
              " 'movie',\n",
              " 'Havent',\n",
              " 'seen',\n",
              " 'Andy',\n",
              " 'Griffith',\n",
              " 'ages',\n",
              " 'felt',\n",
              " 'fit',\n",
              " 'role',\n",
              " 'perfectly',\n",
              " 'Ive',\n",
              " 'associated',\n",
              " 'comedy',\n",
              " 'pleased',\n",
              " 'see',\n",
              " 'hes',\n",
              " 'versatilebr',\n",
              " 'br',\n",
              " 'I',\n",
              " 'wasnt',\n",
              " 'troubled',\n",
              " 'Dottys',\n",
              " 'anxiety',\n",
              " 'disorder',\n",
              " 'may',\n",
              " 'verbatim',\n",
              " 'psychiatric',\n",
              " 'textbook',\n",
              " 'There',\n",
              " 'zillions',\n",
              " 'whateverphobias',\n",
              " 'neuroses',\n",
              " 'broad',\n",
              " 'variety',\n",
              " 'quantitative',\n",
              " 'qualitative',\n",
              " 'forms',\n",
              " 'She',\n",
              " 'clearly',\n",
              " 'sensitive',\n",
              " 'extrasensory',\n",
              " 'powers',\n",
              " 'understood',\n",
              " 'local',\n",
              " 'Indians',\n",
              " 'Anglos',\n",
              " 'It',\n",
              " 'surprising',\n",
              " 'character',\n",
              " 'vulnerable',\n",
              " 'nominally',\n",
              " 'eccentricbr',\n",
              " 'br',\n",
              " 'Although',\n",
              " 'taken',\n",
              " 'light',\n",
              " 'family',\n",
              " 'movie',\n",
              " 'actually',\n",
              " 'sophisticated',\n",
              " 'seems',\n",
              " 'Also',\n",
              " 'Hirams',\n",
              " 'twist',\n",
              " 'came',\n",
              " 'pleasant',\n",
              " 'surprise',\n",
              " 'tied',\n",
              " 'preceding',\n",
              " 'action',\n",
              " 'together',\n",
              " 'bundle',\n",
              " 'Its',\n",
              " 'fun',\n",
              " 'contemplate',\n",
              " 'possibility',\n",
              " 'spiritual',\n",
              " 'guidance']"
            ]
          },
          "metadata": {
            "tags": []
          },
          "execution_count": 18
        }
      ]
    },
    {
      "cell_type": "markdown",
      "metadata": {
        "id": "t5arp6IzKt0i"
      },
      "source": [
        "### 1.2.4 Lemmatisation"
      ]
    },
    {
      "cell_type": "code",
      "metadata": {
        "id": "RheZzntEK0-8",
        "outputId": "6f20e58c-2a4a-4103-db4f-c62866b910a1",
        "colab": {
          "base_uri": "https://localhost:8080/",
          "height": 355
        }
      },
      "source": [
        "nltk.download('wordnet')\n",
        "from nltk.stem import WordNetLemmatizer\n",
        "\n",
        "lemmatizer = WordNetLemmatizer()\n",
        "\n",
        "def lemmatise_words(texts):\n",
        "  \"\"\"Lemmatise words in texts.\"\"\"\n",
        "  text_le = []\n",
        "  for tokens in tqdm(texts):\n",
        "    lemma_tokens = [lemmatizer.lemmatize(w) for w in tokens]\n",
        "    text_le.append(lemma_tokens)\n",
        "  return text_le\n",
        "\n",
        "train_text_le = lemmatise_words(train_text_ns)\n",
        "test_text_le = lemmatise_words(test_text_ns)\n",
        "\n",
        "# quick check\n",
        "for i in range(15):\n",
        "  print(train_text_ns[0][i], train_text_le[0][i])\n"
      ],
      "execution_count": null,
      "outputs": [
        {
          "output_type": "stream",
          "text": [
            "[nltk_data] Downloading package wordnet to /root/nltk_data...\n",
            "[nltk_data]   Unzipping corpora/wordnet.zip.\n"
          ],
          "name": "stdout"
        },
        {
          "output_type": "stream",
          "text": [
            "100%|██████████| 25000/25000 [00:16<00:00, 1526.53it/s]\n",
            "100%|██████████| 25000/25000 [00:13<00:00, 1794.26it/s]"
          ],
          "name": "stderr"
        },
        {
          "output_type": "stream",
          "text": [
            "I I\n",
            "enjoyed enjoyed\n",
            "movie movie\n",
            "Havent Havent\n",
            "seen seen\n",
            "Andy Andy\n",
            "Griffith Griffith\n",
            "ages age\n",
            "felt felt\n",
            "fit fit\n",
            "role role\n",
            "perfectly perfectly\n",
            "Ive Ive\n",
            "associated associated\n",
            "comedy comedy\n"
          ],
          "name": "stdout"
        },
        {
          "output_type": "stream",
          "text": [
            "\n"
          ],
          "name": "stderr"
        }
      ]
    },
    {
      "cell_type": "markdown",
      "metadata": {
        "id": "JpgLDiyVK0Mg"
      },
      "source": [
        "### 1.2.5 Stemming\n"
      ]
    },
    {
      "cell_type": "code",
      "metadata": {
        "id": "GwjSPCK8MXZ7",
        "outputId": "9f2e5651-aa13-44b1-f279-b68ee2759c01",
        "colab": {
          "base_uri": "https://localhost:8080/",
          "height": 383,
          "referenced_widgets": [
            "c3753b384a094eaf92850d0d87eeb07a",
            "32621f50ed674bfb8df7b680fb77df90",
            "3423eec85e7a43649539d84205050631",
            "89585c793fd34439957475af7487080a",
            "aed512329b034ad396386cd7c0870212",
            "68bb8a0cce2f4dcc821c451e2287e15f",
            "88e6ca1668e64cc7b26afff6a52469d2",
            "56fec906c85745dab31a2c2916a673fb",
            "b8d34a1bca864f6ea402d64a7b3d90ad",
            "c6e48926fc924d7c99bd50aa1af5de4e",
            "0ea784c817f24dc99205055ee1523701",
            "72de11dac3264d18907bc72140fab6aa",
            "644c63a82249471b9cf177dc0aa41382",
            "fc33521501b749fe81ac6edb941884c9",
            "ef2c1c5e901f4f168a92997a802ced3c",
            "54273e0c298345c7aa1139cf081ad3fd"
          ]
        }
      },
      "source": [
        "from nltk.stem.porter import PorterStemmer\n",
        "from tqdm.notebook import tqdm\n",
        "\n",
        "stemmer = PorterStemmer()\n",
        "\n",
        "def stemmatise_words(texts):\n",
        "  \"\"\"Stemmatise words in texts.\"\"\"\n",
        "  text_sm = []\n",
        "  for tokens in tqdm(texts):\n",
        "    stemm_tokens = [stemmer.stem(w) for w in tokens]\n",
        "    text_sm.append(stemm_tokens)\n",
        "  return text_sm\n",
        "\n",
        "train_text_sm = stemmatise_words(train_text_le)\n",
        "test_text_sm = stemmatise_words(test_text_le)\n",
        "\n",
        "# quick check\n",
        "for i in range(15):\n",
        "  print(train_text_le[0][i], train_text_sm[0][i])"
      ],
      "execution_count": null,
      "outputs": [
        {
          "output_type": "display_data",
          "data": {
            "application/vnd.jupyter.widget-view+json": {
              "model_id": "c3753b384a094eaf92850d0d87eeb07a",
              "version_minor": 0,
              "version_major": 2
            },
            "text/plain": [
              "HBox(children=(IntProgress(value=0, max=25000), HTML(value='')))"
            ]
          },
          "metadata": {
            "tags": []
          }
        },
        {
          "output_type": "stream",
          "text": [
            "\n"
          ],
          "name": "stdout"
        },
        {
          "output_type": "display_data",
          "data": {
            "application/vnd.jupyter.widget-view+json": {
              "model_id": "b8d34a1bca864f6ea402d64a7b3d90ad",
              "version_minor": 0,
              "version_major": 2
            },
            "text/plain": [
              "HBox(children=(IntProgress(value=0, max=25000), HTML(value='')))"
            ]
          },
          "metadata": {
            "tags": []
          }
        },
        {
          "output_type": "stream",
          "text": [
            "\n",
            "I I\n",
            "enjoyed enjoy\n",
            "movie movi\n",
            "Havent havent\n",
            "seen seen\n",
            "Andy andi\n",
            "Griffith griffith\n",
            "age age\n",
            "felt felt\n",
            "fit fit\n",
            "role role\n",
            "perfectly perfectli\n",
            "Ive ive\n",
            "associated associ\n",
            "comedy comedi\n"
          ],
          "name": "stdout"
        }
      ]
    },
    {
      "cell_type": "code",
      "metadata": {
        "id": "bEerD5IJF4mP",
        "outputId": "253d7a4e-3450-414a-b9c1-3c581b04916c",
        "colab": {
          "base_uri": "https://localhost:8080/",
          "height": 126
        }
      },
      "source": [
        "# mount to my drive\n",
        "from google.colab import drive\n",
        "drive.mount('/content/drive')"
      ],
      "execution_count": null,
      "outputs": [
        {
          "output_type": "stream",
          "text": [
            "Go to this URL in a browser: https://accounts.google.com/o/oauth2/auth?client_id=947318989803-6bn6qk8qdgf4n4g3pfee6491hc0brc4i.apps.googleusercontent.com&redirect_uri=urn%3aietf%3awg%3aoauth%3a2.0%3aoob&response_type=code&scope=email%20https%3a%2f%2fwww.googleapis.com%2fauth%2fdocs.test%20https%3a%2f%2fwww.googleapis.com%2fauth%2fdrive%20https%3a%2f%2fwww.googleapis.com%2fauth%2fdrive.photos.readonly%20https%3a%2f%2fwww.googleapis.com%2fauth%2fpeopleapi.readonly\n",
            "\n",
            "Enter your authorization code:\n",
            "··········\n",
            "Mounted at /content/drive\n"
          ],
          "name": "stdout"
        }
      ]
    },
    {
      "cell_type": "code",
      "metadata": {
        "id": "9vCtY-nMFqS9",
        "outputId": "d4d63b40-c144-484d-8f74-531731a83420",
        "colab": {
          "base_uri": "https://localhost:8080/",
          "height": 52
        }
      },
      "source": [
        "# save clean data to my drive\n",
        "import pickle\n",
        "\n",
        "# save model\n",
        "file_clean_train = 'drive/My Drive/comp5046_clean_train.pkl'\n",
        "file_clean_test = 'drive/My Drive/comp5046_clean_test.pkl'\n",
        "\n",
        "print('Saving to', file_clean_train)\n",
        "with open(file_clean_train, 'wb') as f:\n",
        "  pickle.dump(train_text_sm, f)\n",
        "\n",
        "print('Saving to', file_clean_test)\n",
        "with open(file_clean_test, 'wb') as f:\n",
        "  pickle.dump(test_text_sm, f)"
      ],
      "execution_count": null,
      "outputs": [
        {
          "output_type": "stream",
          "text": [
            "Saving to drive/My Drive/comp5046_clean_train.pkl\n",
            "Saving to drive/My Drive/comp5046_clean_test.pkl\n"
          ],
          "name": "stdout"
        }
      ]
    },
    {
      "cell_type": "markdown",
      "metadata": {
        "id": "LIu_lkJwQ55g"
      },
      "source": [
        "# 2 - Model Implementation"
      ]
    },
    {
      "cell_type": "markdown",
      "metadata": {
        "id": "daDvAftceIvr"
      },
      "source": [
        "## 2.1. Word Embeddings"
      ]
    },
    {
      "cell_type": "markdown",
      "metadata": {
        "id": "lbzm-NWBTmM-"
      },
      "source": [
        "The model I used for word embedding is SkipGram of FastText. \n",
        "\n",
        "FastText is more resilient to typo and error in words compared to Word2Vec hence FastText is my first preference when choosing word embedding model. \n",
        "\n",
        "There are two types of prediction based word representation - CBOW and Skip-gram. CBOW predicts center word from bag of context words while skip-gram predicts context words given center word. "
      ]
    },
    {
      "cell_type": "markdown",
      "metadata": {
        "id": "GXgFpxIgl-_G"
      },
      "source": [
        "### 2.1.1. Data Preprocessing for Word Embeddings"
      ]
    },
    {
      "cell_type": "markdown",
      "metadata": {
        "id": "qJrVHGYSmYMg"
      },
      "source": [
        "*You are required to describe which preprocessing techniques were used with justification of your decision.*\n",
        "\n",
        "**Important**: If you are going to use the code from lab3 word2vec preprocessing. Please note that `word_list = list(set(word_list)) ` has randomness. So to make sure the word_list is the same every time you run it, you can put `word_list.sort()` after that line of code."
      ]
    },
    {
      "cell_type": "code",
      "metadata": {
        "id": "Zb-NeOW3XpD8",
        "outputId": "34ac5c5e-127b-4e1d-a4e7-ed39338e3d83",
        "colab": {
          "base_uri": "https://localhost:8080/",
          "height": 70
        }
      },
      "source": [
        "# load pre-saved clean train and test data\n",
        "# mount to my drive\n",
        "from google.colab import drive\n",
        "drive.mount('/content/drive')\n",
        "\n",
        "# save clean data to my drive\n",
        "import pickle\n",
        "\n",
        "# save model\n",
        "file_clean_train = 'drive/My Drive/comp5046_clean_train.pkl'\n",
        "file_clean_test = 'drive/My Drive/comp5046_clean_test.pkl'\n",
        "\n",
        "print('Loading to', file_clean_train)\n",
        "with open(file_clean_train, 'rb') as f:\n",
        "  train_text_sm = pickle.load(f)\n",
        "\n",
        "print('Loading to', file_clean_test)\n",
        "with open(file_clean_test, 'rb') as f:\n",
        "  test_text_sm = pickle.load(f)"
      ],
      "execution_count": null,
      "outputs": [
        {
          "output_type": "stream",
          "text": [
            "Drive already mounted at /content/drive; to attempt to forcibly remount, call drive.mount(\"/content/drive\", force_remount=True).\n",
            "Loading to drive/My Drive/comp5046_clean_train.pkl\n",
            "Loading to drive/My Drive/comp5046_clean_test.pkl\n"
          ],
          "name": "stdout"
        }
      ]
    },
    {
      "cell_type": "markdown",
      "metadata": {
        "id": "0fCld4i1pD6Z"
      },
      "source": [
        "#### 2.1.1.1 Build Vocabulary - A dictionary map word to index"
      ]
    },
    {
      "cell_type": "code",
      "metadata": {
        "id": "3LByzHLiNinu",
        "outputId": "5e8102a1-5758-4286-968b-63c5d934a9ee",
        "colab": {
          "base_uri": "https://localhost:8080/",
          "height": 248
        }
      },
      "source": [
        "# make a dictionary to map word to integer\n",
        "word_dict = {}\n",
        "i = 0\n",
        "\n",
        "def add_to_word_dict(word_dict, word, i):\n",
        "  \"\"\"Add word to word_dict if not exist.\"\"\"\n",
        "  if word in word_dict:\n",
        "    return i\n",
        "  else:\n",
        "    word_dict[word] = i\n",
        "    i += 1\n",
        "  return i\n",
        "    \n",
        "# go through all words in training data and populate word_dict\n",
        "for tokens in train_text_sm:\n",
        "  for word in tokens:\n",
        "      i = add_to_word_dict(word_dict, word, i)\n",
        "\n",
        "\n",
        "# similarly, go through all words in test data and populate word_dict\n",
        "for tokens in test_text_sm:\n",
        "  for word in tokens:\n",
        "    i = add_to_word_dict(word_dict, word, i)\n",
        "\n",
        "# quick check\n",
        "voc_size = len(word_dict)\n",
        "print(f'Vocabulary size={voc_size}\\nCheck the first 10 words in vocabulary:')\n",
        "j = 0\n",
        "for k, v in word_dict.items():\n",
        "  print(f'  {k}: {v}')\n",
        "  j += 1\n",
        "  if j > 10:\n",
        "    break"
      ],
      "execution_count": null,
      "outputs": [
        {
          "output_type": "stream",
          "text": [
            "Vocabulary size=143366\n",
            "Check the first 10 words in vocabulary:\n",
            "  I: 0\n",
            "  enjoy: 1\n",
            "  movi: 2\n",
            "  havent: 3\n",
            "  seen: 4\n",
            "  andi: 5\n",
            "  griffith: 6\n",
            "  age: 7\n",
            "  felt: 8\n",
            "  fit: 9\n",
            "  role: 10\n"
          ],
          "name": "stdout"
        }
      ]
    },
    {
      "cell_type": "markdown",
      "metadata": {
        "id": "WwRQQA6DpOXG"
      },
      "source": [
        "#### 2.1.1.2 Make Skip-gram with Window Size 1"
      ]
    },
    {
      "cell_type": "code",
      "metadata": {
        "id": "e-rQjaQFpMZx",
        "outputId": "4517e131-79bb-4526-d72b-21163bf8bbfc",
        "colab": {
          "base_uri": "https://localhost:8080/",
          "height": 330,
          "referenced_widgets": [
            "804a7f7beb2f427db510c01a2f0fcb05",
            "7c30ac9e1ce542278cbe0604392ace77",
            "18a98384089f4107ac2e190338cc2530",
            "60a39cf70fbb485aa462fde1ccc0c730",
            "aa182040fd44469aa7b7baaff8a19e48",
            "79559545f8e94f98b62b0d0c7fbd457f",
            "5bfc0f32540e4c41b7b14a6330983cc6",
            "764ddbc4b6d148009f9a6eb9f60f1614",
            "21b963c61c2444c08bb2870b45d1d6eb",
            "7a903b51b0fa4c15b524f1bf4fe5021e",
            "3c3caf74300d46fa8e6a7d7ed2f091de",
            "ee987ddeec25494881527e31283e0463",
            "d1b1d37b418045d89383d6274f30ef7e",
            "ed9236327b624914b56e686032970029",
            "1c8b528906f947f29aca72a3eeadc95e",
            "da77169858b24d98a5f4f71af82ab8e1"
          ]
        }
      },
      "source": [
        "from tqdm.notebook import tqdm\n",
        "unique_pairs = set()\n",
        "skip_grams = []\n",
        "\n",
        "def add_to_skipgram(word_dict, skip_grams, data, size=1):\n",
        "  \"\"\"Add pairs to skip grams given list of tokens and window size.\"\"\"\n",
        "  for tokens in tqdm(data):\n",
        "    for i in range(1, len(tokens) - 1):\n",
        "      str_target = tokens[i]\n",
        "      str_context = [tokens[i - 1], tokens[i + 1]]\n",
        "      target = word_dict[str_target]\n",
        "\n",
        "      # skipgrams - (target, context[0]), (target, context[1])..\n",
        "      for w in str_context:\n",
        "        s_pair = f'{target} {w}'\n",
        "        if s_pair not in unique_pairs:\n",
        "          skip_grams.append([target, word_dict[w]])\n",
        "          unique_pairs.add(s_pair)\n",
        "      \n",
        "# go through all words in training data and populate skip_gram\n",
        "add_to_skipgram(word_dict, skip_grams, train_text_sm)\n",
        "\n",
        "# go through all words in test data and populate skip_gram\n",
        "add_to_skipgram(word_dict, skip_grams, test_text_sm)\n",
        "\n",
        "# quick check\n",
        "print(f'Skip gram size={len(skip_grams)}\\nCheck the first 10 pairs in skip gram:')\n",
        "inv_word_dict = {v:k for k, v in word_dict.items()}\n",
        "for i in range(10):\n",
        "  x, y = skip_grams[i]\n",
        "  print(inv_word_dict[x], inv_word_dict[y])"
      ],
      "execution_count": null,
      "outputs": [
        {
          "output_type": "display_data",
          "data": {
            "application/vnd.jupyter.widget-view+json": {
              "model_id": "804a7f7beb2f427db510c01a2f0fcb05",
              "version_minor": 0,
              "version_major": 2
            },
            "text/plain": [
              "HBox(children=(IntProgress(value=0, max=25000), HTML(value='')))"
            ]
          },
          "metadata": {
            "tags": []
          }
        },
        {
          "output_type": "stream",
          "text": [
            "\n"
          ],
          "name": "stdout"
        },
        {
          "output_type": "display_data",
          "data": {
            "application/vnd.jupyter.widget-view+json": {
              "model_id": "21b963c61c2444c08bb2870b45d1d6eb",
              "version_minor": 0,
              "version_major": 2
            },
            "text/plain": [
              "HBox(children=(IntProgress(value=0, max=25000), HTML(value='')))"
            ]
          },
          "metadata": {
            "tags": []
          }
        },
        {
          "output_type": "stream",
          "text": [
            "\n",
            "Skip gram size=4988251\n",
            "Check the first 10 pairs in skip gram:\n",
            "enjoy I\n",
            "enjoy movi\n",
            "movi enjoy\n",
            "movi havent\n",
            "havent movi\n",
            "havent seen\n",
            "seen havent\n",
            "seen andi\n",
            "andi seen\n",
            "andi griffith\n"
          ],
          "name": "stdout"
        }
      ]
    },
    {
      "cell_type": "markdown",
      "metadata": {
        "id": "qhAgWf_AmbZ8"
      },
      "source": [
        "### 2.1.2. Build Word Embeddings Model"
      ]
    },
    {
      "cell_type": "markdown",
      "metadata": {
        "id": "AJ8rU7JbiBVS"
      },
      "source": [
        "**Define batch generation function**"
      ]
    },
    {
      "cell_type": "code",
      "metadata": {
        "id": "TVPuwWgvNjOU",
        "outputId": "c5145c4c-6331-405a-f75f-bfebce6577bd",
        "colab": {
          "base_uri": "https://localhost:8080/",
          "height": 301
        }
      },
      "source": [
        "import numpy as np\n",
        "\n",
        "def get_batch(data, size, iteration):\n",
        "  \"\"\"Return a batch of given size from skip gram.\"\"\"\n",
        "  batch_inputs = []\n",
        "  batch_labels = []\n",
        "  start_index = iteration * size\n",
        "  end_index = (iteration + 1) * size\n",
        "  for i in range(start_index, end_index):\n",
        "    input_temp = [0] * voc_size\n",
        "    input_temp[data[i][0]] = 1\n",
        "    batch_inputs.append(input_temp)  # target\n",
        "    batch_labels.append(data[i][1])  # context words\n",
        "\n",
        "  return np.array(batch_inputs), np.array(batch_labels)\n",
        "\n",
        "# quick check\n",
        "size = 10\n",
        "print(f'Try to get a batch of size={size} on iteration=0')\n",
        "print(get_batch(skip_grams, size, 0))\n",
        "print(f'Try to get a batch of size={size} on iteration=1')\n",
        "print(get_batch(skip_grams, size, 1))\n"
      ],
      "execution_count": null,
      "outputs": [
        {
          "output_type": "stream",
          "text": [
            "Try to get a batch of size=10 on iteration=0\n",
            "(array([[0, 1, 0, ..., 0, 0, 0],\n",
            "       [0, 1, 0, ..., 0, 0, 0],\n",
            "       [0, 0, 1, ..., 0, 0, 0],\n",
            "       ...,\n",
            "       [0, 0, 0, ..., 0, 0, 0],\n",
            "       [0, 0, 0, ..., 0, 0, 0],\n",
            "       [0, 0, 0, ..., 0, 0, 0]]), array([0, 2, 1, 3, 2, 4, 3, 5, 4, 6]))\n",
            "Try to get a batch of size=10 on iteration=1\n",
            "(array([[0, 0, 0, ..., 0, 0, 0],\n",
            "       [0, 0, 0, ..., 0, 0, 0],\n",
            "       [0, 0, 0, ..., 0, 0, 0],\n",
            "       ...,\n",
            "       [0, 0, 0, ..., 0, 0, 0],\n",
            "       [0, 0, 0, ..., 0, 0, 0],\n",
            "       [0, 0, 0, ..., 0, 0, 0]]), array([ 5,  7,  6,  8,  7,  9,  8, 10,  9, 11]))\n"
          ],
          "name": "stdout"
        }
      ]
    },
    {
      "cell_type": "markdown",
      "metadata": {
        "id": "fYvRE8qBxX0-"
      },
      "source": [
        "**Define hyperparameters and word embedding model**"
      ]
    },
    {
      "cell_type": "code",
      "metadata": {
        "id": "4UdUok0pxOXp"
      },
      "source": [
        "import torch.nn as nn\n",
        "import torch.optim as optim\n",
        "\n",
        "learning_rate = 0.002\n",
        "batch_size = 200\n",
        "embedding_size = 25\n",
        "no_of_epochs = 1000\n",
        "\n",
        "\n",
        "class SkipGram(nn.Module):\n",
        "\n",
        "  def __init__(self):\n",
        "    super(SkipGram, self).__init__()\n",
        "    self.linear1 = nn.Linear(voc_size, embedding_size, bias=False)\n",
        "    self.linear2 = nn.Linear(embedding_size, voc_size, bias=False)\n",
        "\n",
        "  def forward(self, x):\n",
        "    hidden = self.linear1(x)\n",
        "    out = self.linear2(hidden)\n",
        "    return out\n",
        "\n",
        "skip_gram_model = SkipGram()\n",
        "criterion = nn.CrossEntropyLoss()\n",
        "optimiser = optim.Adam(skip_gram_model.parameters(), lr=learning_rate)"
      ],
      "execution_count": null,
      "outputs": []
    },
    {
      "cell_type": "markdown",
      "metadata": {
        "id": "MleQfE9-7oa3"
      },
      "source": [
        "### 2.1.3. Train Word Embeddings Model"
      ]
    },
    {
      "cell_type": "code",
      "metadata": {
        "id": "UZkHAtllj4sh",
        "outputId": "396f0014-f25d-425b-9612-25d534fb246a",
        "colab": {
          "base_uri": "https://localhost:8080/",
          "height": 1000,
          "referenced_widgets": [
            "092e2d319ee642e3b279024ea6e49cea",
            "853ba4d53bac471a87bf39502febd9f8",
            "00608f7ddb58426085d5ed81486201a9",
            "d583b2047bc04ae28569d04be25b89cc",
            "dd3c030281fc42d1846a665f1fb917b7",
            "48cfe32156434033a6ec507467e37d57",
            "27f7e6a48e5d4440a1a48c70ea9557c8",
            "daa30fa996f04c35abd409f2a288a27d"
          ]
        }
      },
      "source": [
        "from sklearn.metrics import accuracy_score\n",
        "import matplotlib.pyplot as pl\n",
        "import torch\n",
        "\n",
        "losses = []\n",
        "\n",
        "for epoch in tqdm(range(no_of_epochs)):\n",
        "    inputs,labels = get_batch(skip_grams, batch_size, epoch) # make batch every epoch\n",
        "    inputs_torch = torch.from_numpy(inputs).float()\n",
        "    labels_torch = torch.from_numpy(labels)\n",
        "\n",
        "    # 1. zero grad\n",
        "    optimiser.zero_grad()\n",
        "\n",
        "    # 2. forword propagation\n",
        "    outputs = skip_gram_model(inputs_torch)\n",
        "\n",
        "    # 3. calculate loss\n",
        "    loss = criterion(outputs, labels_torch)\n",
        "\n",
        "    # 4. back propagation\n",
        "    loss.backward()\n",
        "    optimiser.step()\n",
        "    \n",
        "    losses.append(loss)\n",
        "    if epoch % 10 == 0: \n",
        "        pred_outputs = skip_gram_model(inputs_torch)\n",
        "        predicted = torch.argmax(outputs, 1)\n",
        "        train_acc = accuracy_score(predicted.numpy(), labels)\n",
        "        print('Epoch: %d, loss: %.4f, train_acc: %.3f' %(epoch, loss, train_acc))\n",
        "\n",
        "pl.plot(range(no_of_epochs), losses)\n",
        "pl.xlabel('Epochs')\n",
        "pl.ylabel('Loss')\n",
        "pl.title(f'Learn_rate={learning_rate} Batch={batch_size} Embed={embedding_size}')\n",
        "pl.show()"
      ],
      "execution_count": null,
      "outputs": [
        {
          "output_type": "display_data",
          "data": {
            "application/vnd.jupyter.widget-view+json": {
              "model_id": "092e2d319ee642e3b279024ea6e49cea",
              "version_minor": 0,
              "version_major": 2
            },
            "text/plain": [
              "HBox(children=(IntProgress(value=0, max=1000), HTML(value='')))"
            ]
          },
          "metadata": {
            "tags": []
          }
        },
        {
          "output_type": "stream",
          "text": [
            "Epoch: 0, loss: 11.8730, train_acc: 0.000\n",
            "Epoch: 10, loss: 11.8732, train_acc: 0.000\n",
            "Epoch: 20, loss: 11.8733, train_acc: 0.000\n",
            "Epoch: 30, loss: 11.8725, train_acc: 0.000\n",
            "Epoch: 40, loss: 11.8723, train_acc: 0.000\n",
            "Epoch: 50, loss: 11.8727, train_acc: 0.000\n",
            "Epoch: 60, loss: 11.8717, train_acc: 0.000\n",
            "Epoch: 70, loss: 11.8687, train_acc: 0.000\n",
            "Epoch: 80, loss: 11.8640, train_acc: 0.000\n",
            "Epoch: 90, loss: 11.8543, train_acc: 0.000\n",
            "Epoch: 100, loss: 11.8264, train_acc: 0.000\n",
            "Epoch: 110, loss: 11.8020, train_acc: 0.010\n",
            "Epoch: 120, loss: 11.7802, train_acc: 0.005\n",
            "Epoch: 130, loss: 11.7640, train_acc: 0.010\n",
            "Epoch: 140, loss: 11.7078, train_acc: 0.005\n",
            "Epoch: 150, loss: 11.6734, train_acc: 0.000\n",
            "Epoch: 160, loss: 11.6244, train_acc: 0.000\n",
            "Epoch: 170, loss: 11.7264, train_acc: 0.005\n",
            "Epoch: 180, loss: 11.6103, train_acc: 0.005\n",
            "Epoch: 190, loss: 11.4029, train_acc: 0.000\n",
            "Epoch: 200, loss: 11.6537, train_acc: 0.005\n",
            "Epoch: 210, loss: 11.0289, train_acc: 0.010\n",
            "Epoch: 220, loss: 11.0609, train_acc: 0.000\n",
            "Epoch: 230, loss: 10.8578, train_acc: 0.005\n",
            "Epoch: 240, loss: 10.5692, train_acc: 0.030\n",
            "Epoch: 250, loss: 11.2105, train_acc: 0.000\n",
            "Epoch: 260, loss: 10.8628, train_acc: 0.010\n",
            "Epoch: 270, loss: 10.5019, train_acc: 0.000\n",
            "Epoch: 280, loss: 11.0298, train_acc: 0.005\n",
            "Epoch: 290, loss: 10.3184, train_acc: 0.000\n",
            "Epoch: 300, loss: 10.2357, train_acc: 0.010\n",
            "Epoch: 310, loss: 9.8348, train_acc: 0.000\n",
            "Epoch: 320, loss: 10.3904, train_acc: 0.020\n",
            "Epoch: 330, loss: 10.4487, train_acc: 0.000\n",
            "Epoch: 340, loss: 9.7776, train_acc: 0.005\n",
            "Epoch: 350, loss: 10.0134, train_acc: 0.010\n",
            "Epoch: 360, loss: 9.9100, train_acc: 0.010\n",
            "Epoch: 370, loss: 10.5464, train_acc: 0.000\n",
            "Epoch: 380, loss: 10.3260, train_acc: 0.005\n",
            "Epoch: 390, loss: 9.9028, train_acc: 0.000\n",
            "Epoch: 400, loss: 10.4468, train_acc: 0.000\n",
            "Epoch: 410, loss: 9.2637, train_acc: 0.020\n",
            "Epoch: 420, loss: 10.3289, train_acc: 0.005\n",
            "Epoch: 430, loss: 9.8824, train_acc: 0.005\n",
            "Epoch: 440, loss: 11.1427, train_acc: 0.000\n",
            "Epoch: 450, loss: 9.9657, train_acc: 0.000\n",
            "Epoch: 460, loss: 10.5783, train_acc: 0.005\n",
            "Epoch: 470, loss: 10.8479, train_acc: 0.010\n",
            "Epoch: 480, loss: 10.0332, train_acc: 0.015\n",
            "Epoch: 490, loss: 10.4050, train_acc: 0.000\n",
            "Epoch: 500, loss: 9.9385, train_acc: 0.000\n",
            "Epoch: 510, loss: 10.0547, train_acc: 0.005\n",
            "Epoch: 520, loss: 9.1353, train_acc: 0.010\n",
            "Epoch: 530, loss: 9.6503, train_acc: 0.020\n",
            "Epoch: 540, loss: 11.2553, train_acc: 0.010\n",
            "Epoch: 550, loss: 8.7784, train_acc: 0.000\n",
            "Epoch: 560, loss: 9.7283, train_acc: 0.015\n",
            "Epoch: 570, loss: 9.5355, train_acc: 0.005\n",
            "Epoch: 580, loss: 10.5800, train_acc: 0.000\n",
            "Epoch: 590, loss: 8.4618, train_acc: 0.010\n",
            "Epoch: 600, loss: 9.2056, train_acc: 0.000\n",
            "Epoch: 610, loss: 9.4081, train_acc: 0.005\n",
            "Epoch: 620, loss: 9.0077, train_acc: 0.005\n",
            "Epoch: 630, loss: 10.7912, train_acc: 0.000\n",
            "Epoch: 640, loss: 9.6566, train_acc: 0.000\n",
            "Epoch: 650, loss: 8.7827, train_acc: 0.015\n",
            "Epoch: 660, loss: 9.8451, train_acc: 0.000\n",
            "Epoch: 670, loss: 9.9718, train_acc: 0.010\n",
            "Epoch: 680, loss: 9.2279, train_acc: 0.000\n",
            "Epoch: 690, loss: 9.3138, train_acc: 0.005\n",
            "Epoch: 700, loss: 9.5436, train_acc: 0.000\n",
            "Epoch: 710, loss: 9.7725, train_acc: 0.005\n",
            "Epoch: 720, loss: 8.8769, train_acc: 0.015\n",
            "Epoch: 730, loss: 9.7968, train_acc: 0.000\n",
            "Epoch: 740, loss: 10.6460, train_acc: 0.000\n",
            "Epoch: 750, loss: 10.1640, train_acc: 0.005\n",
            "Epoch: 760, loss: 8.7408, train_acc: 0.005\n",
            "Epoch: 770, loss: 10.3327, train_acc: 0.005\n",
            "Epoch: 780, loss: 9.6211, train_acc: 0.000\n",
            "Epoch: 790, loss: 10.3911, train_acc: 0.015\n",
            "Epoch: 800, loss: 9.8809, train_acc: 0.015\n",
            "Epoch: 810, loss: 8.9644, train_acc: 0.000\n",
            "Epoch: 820, loss: 9.5714, train_acc: 0.000\n",
            "Epoch: 830, loss: 8.9238, train_acc: 0.005\n",
            "Epoch: 840, loss: 9.3755, train_acc: 0.015\n",
            "Epoch: 850, loss: 9.8721, train_acc: 0.000\n",
            "Epoch: 860, loss: 9.6851, train_acc: 0.000\n",
            "Epoch: 870, loss: 9.1948, train_acc: 0.005\n",
            "Epoch: 880, loss: 9.6188, train_acc: 0.000\n",
            "Epoch: 890, loss: 8.9133, train_acc: 0.015\n",
            "Epoch: 900, loss: 9.4877, train_acc: 0.000\n",
            "Epoch: 910, loss: 9.5970, train_acc: 0.000\n",
            "Epoch: 920, loss: 9.5960, train_acc: 0.000\n",
            "Epoch: 930, loss: 9.3561, train_acc: 0.000\n",
            "Epoch: 940, loss: 9.5510, train_acc: 0.015\n",
            "Epoch: 950, loss: 10.3157, train_acc: 0.005\n",
            "Epoch: 960, loss: 9.3972, train_acc: 0.000\n",
            "Epoch: 970, loss: 10.0064, train_acc: 0.005\n",
            "Epoch: 980, loss: 8.8748, train_acc: 0.005\n",
            "Epoch: 990, loss: 9.2100, train_acc: 0.000\n",
            "\n"
          ],
          "name": "stdout"
        },
        {
          "output_type": "display_data",
          "data": {
            "image/png": "[encoded data removed]",
            "text/plain": [
              "<Figure size 432x288 with 1 Axes>"
            ]
          },
          "metadata": {
            "tags": [],
            "needs_background": "light"
          }
        }
      ]
    },
    {
      "cell_type": "markdown",
      "metadata": {
        "id": "kiPj_YpM7t-K"
      },
      "source": [
        "#### 2.1.3.1 Justification on Hyperparameter Choices\n",
        "\n",
        "I tuned the hyperparameter with several options. The following is the comparison of 4 different learning rate:\n",
        "![alt text](https://)"
      ]
    },
    {
      "cell_type": "code",
      "metadata": {
        "id": "S828LfORztAb",
        "outputId": "db6675bf-5594-4ef2-a2af-256025985190",
        "colab": {
          "base_uri": "https://localhost:8080/",
          "height": 51
        }
      },
      "source": [
        "from scipy import spatial\n",
        "\n",
        "weight1 = skip_gram_model.linear1.weight\n",
        "trained_embeddings = weight1.detach().T.numpy()\n",
        "\n",
        "test_words = ['love', 'like']\n",
        "\n",
        "def compute_similarity_score(word1, word2):\n",
        "  \"\"\"Compute similarity score given two words and word embedding.\"\"\"\n",
        "  i1, i2 = word_dict[word1], word_dict[word2]\n",
        "  embed1, embed2 = trained_embeddings[i1], trained_embeddings[i2]\n",
        "  cos_sim = 1 - spatial.distance.cosine(embed1, embed2)\n",
        "  return cos_sim\n",
        "\n",
        "\n",
        "print(f'cosine similarity between love and like={compute_similarity_score(\"like\", \"love\")}')\n",
        "print(f'cosine similarity between love and hate={compute_similarity_score(\"hate\", \"love\")}')\n"
      ],
      "execution_count": null,
      "outputs": [
        {
          "output_type": "stream",
          "text": [
            "cosine similarity between love and like=0.2537938952445984\n",
            "cosine similarity between love and hate=0.5115710496902466\n"
          ],
          "name": "stdout"
        }
      ]
    },
    {
      "cell_type": "markdown",
      "metadata": {
        "id": "uMCv3YI1IfUo"
      },
      "source": [
        "### 2.1.4. Save Word Embeddings Model"
      ]
    },
    {
      "cell_type": "code",
      "metadata": {
        "id": "3OwicNPkIqd1",
        "outputId": "3720e086-87d6-4dfe-86f2-108319726372",
        "colab": {
          "base_uri": "https://localhost:8080/",
          "height": 54
        }
      },
      "source": [
        "# mount to my drive\n",
        "from google.colab import drive\n",
        "drive.mount('/content/drive')\n",
        "\n",
        "# save model\n",
        "model_file_name = f'drive/My Drive/word_embedding_lr={learning_rate}_batch={batch_size}_embed={embedding_size}.pt'\n"
      ],
      "execution_count": null,
      "outputs": [
        {
          "output_type": "stream",
          "text": [
            "Drive already mounted at /content/drive; to attempt to forcibly remount, call drive.mount(\"/content/drive\", force_remount=True).\n"
          ],
          "name": "stdout"
        }
      ]
    },
    {
      "cell_type": "code",
      "metadata": {
        "id": "b-moLw1wBaHA"
      },
      "source": [
        "torch.save(skip_gram_model, model_file_name)"
      ],
      "execution_count": null,
      "outputs": []
    },
    {
      "cell_type": "markdown",
      "metadata": {
        "id": "Yn16xrDrIs8B"
      },
      "source": [
        "### 2.1.5. Load Word Embeddings Model"
      ]
    },
    {
      "cell_type": "code",
      "metadata": {
        "id": "-IebpYFsIvgh",
        "outputId": "13f96762-ba46-4206-c904-37a55d0eb6e5",
        "colab": {
          "base_uri": "https://localhost:8080/",
          "height": 86
        }
      },
      "source": [
        "import torch\n",
        "# load model\n",
        "saved_skip_gram_model = torch.load(model_file_name)\n",
        "saved_skip_gram_model.eval()"
      ],
      "execution_count": null,
      "outputs": [
        {
          "output_type": "execute_result",
          "data": {
            "text/plain": [
              "SkipGram(\n",
              "  (linear1): Linear(in_features=143366, out_features=25, bias=False)\n",
              "  (linear2): Linear(in_features=25, out_features=143366, bias=False)\n",
              ")"
            ]
          },
          "metadata": {
            "tags": []
          },
          "execution_count": 28
        }
      ]
    },
    {
      "cell_type": "markdown",
      "metadata": {
        "id": "T0ap96aeGlIk"
      },
      "source": [
        "## 2.2. Character Embeddings"
      ]
    },
    {
      "cell_type": "markdown",
      "metadata": {
        "id": "d16v3oKaGlI0"
      },
      "source": [
        "### 2.2.1. Data Preprocessing for Character Embeddings"
      ]
    },
    {
      "cell_type": "code",
      "metadata": {
        "id": "sBbDK6Q2ITbc",
        "outputId": "7c9fedeb-06f4-40e5-b0bc-2154d5b3547e",
        "colab": {
          "base_uri": "https://localhost:8080/",
          "height": 161
        }
      },
      "source": [
        "# load pre-saved clean train and test data\n",
        "# mount to my drive\n",
        "from google.colab import drive\n",
        "drive.mount('/content/drive')\n",
        "\n",
        "# save clean data to my drive\n",
        "import pickle\n",
        "\n",
        "# save model\n",
        "file_clean_train = 'drive/My Drive/comp5046_clean_train.pkl'\n",
        "file_clean_test = 'drive/My Drive/comp5046_clean_test.pkl'\n",
        "\n",
        "print('Loading to', file_clean_train)\n",
        "with open(file_clean_train, 'rb') as f:\n",
        "  train_text_sm = pickle.load(f)\n",
        "\n",
        "print('Loading to', file_clean_test)\n",
        "with open(file_clean_test, 'rb') as f:\n",
        "  test_text_sm = pickle.load(f)"
      ],
      "execution_count": null,
      "outputs": [
        {
          "output_type": "stream",
          "text": [
            "Go to this URL in a browser: https://accounts.google.com/o/oauth2/auth?client_id=947318989803-6bn6qk8qdgf4n4g3pfee6491hc0brc4i.apps.googleusercontent.com&redirect_uri=urn%3aietf%3awg%3aoauth%3a2.0%3aoob&response_type=code&scope=email%20https%3a%2f%2fwww.googleapis.com%2fauth%2fdocs.test%20https%3a%2f%2fwww.googleapis.com%2fauth%2fdrive%20https%3a%2f%2fwww.googleapis.com%2fauth%2fdrive.photos.readonly%20https%3a%2f%2fwww.googleapis.com%2fauth%2fpeopleapi.readonly\n",
            "\n",
            "Enter your authorization code:\n",
            "··········\n",
            "Mounted at /content/drive\n",
            "Loading to drive/My Drive/comp5046_clean_train.pkl\n",
            "Loading to drive/My Drive/comp5046_clean_test.pkl\n"
          ],
          "name": "stdout"
        }
      ]
    },
    {
      "cell_type": "markdown",
      "metadata": {
        "id": "AKbLnN-3GlI1"
      },
      "source": [
        "#### 2.2.1.1 Define the chacater dictionary for later one-hot encoding"
      ]
    },
    {
      "cell_type": "code",
      "metadata": {
        "id": "i2CUCL1cGlI2",
        "outputId": "6d6ba303-f159-43a6-83ee-0ca941e392d2",
        "colab": {
          "base_uri": "https://localhost:8080/",
          "height": 108
        }
      },
      "source": [
        "import string\n",
        "\n",
        "# consider the space of characters:\n",
        "\n",
        "# all lower case character\n",
        "char_lower = string.ascii_lowercase\n",
        "\n",
        "# all upper case character\n",
        "char_upper = string.ascii_uppercase\n",
        "\n",
        "# all numbers \n",
        "char_num = '0123456789'\n",
        "\n",
        "# all special symbols\n",
        "char_special = [\n",
        "  '¢', '£', '§', '©', '®', 'à', 'á', 'â', 'ã', 'ä', 'å', 'æ', 'ç', 'è', 'é', 'ê',\n",
        "  'ë', 'ì', 'í', 'î', 'ï', 'ð', 'ñ', 'ò', 'ó', 'ô', 'õ', 'ö', 'ù', 'ú', 'û', 'ü','₤']\n",
        "\n",
        "char_all = list(char_lower + char_upper + char_num) + char_special\n",
        "\n",
        "print('Consider the following characters in one-hot encoding:')\n",
        "print(char_all)\n",
        "\n",
        "# define character to number for later one-hot encoding\n",
        "char_to_num_dict = {n: i for i, n in enumerate(char_all)}\n",
        "char_len = len(char_to_num_dict)\n",
        "print(char_to_num_dict)\n",
        "print(f'Char to num dictionary length (ont-hot encoding size)={char_len}')\n",
        "\n"
      ],
      "execution_count": null,
      "outputs": [
        {
          "output_type": "stream",
          "text": [
            "Consider the following characters in one-hot encoding:\n",
            "['a', 'b', 'c', 'd', 'e', 'f', 'g', 'h', 'i', 'j', 'k', 'l', 'm', 'n', 'o', 'p', 'q', 'r', 's', 't', 'u', 'v', 'w', 'x', 'y', 'z', 'A', 'B', 'C', 'D', 'E', 'F', 'G', 'H', 'I', 'J', 'K', 'L', 'M', 'N', 'O', 'P', 'Q', 'R', 'S', 'T', 'U', 'V', 'W', 'X', 'Y', 'Z', '0', '1', '2', '3', '4', '5', '6', '7', '8', '9', '¢', '£', '§', '©', '®', 'à', 'á', 'â', 'ã', 'ä', 'å', 'æ', 'ç', 'è', 'é', 'ê', 'ë', 'ì', 'í', 'î', 'ï', 'ð', 'ñ', 'ò', 'ó', 'ô', 'õ', 'ö', 'ù', 'ú', 'û', 'ü', '₤']\n",
            "{'a': 0, 'b': 1, 'c': 2, 'd': 3, 'e': 4, 'f': 5, 'g': 6, 'h': 7, 'i': 8, 'j': 9, 'k': 10, 'l': 11, 'm': 12, 'n': 13, 'o': 14, 'p': 15, 'q': 16, 'r': 17, 's': 18, 't': 19, 'u': 20, 'v': 21, 'w': 22, 'x': 23, 'y': 24, 'z': 25, 'A': 26, 'B': 27, 'C': 28, 'D': 29, 'E': 30, 'F': 31, 'G': 32, 'H': 33, 'I': 34, 'J': 35, 'K': 36, 'L': 37, 'M': 38, 'N': 39, 'O': 40, 'P': 41, 'Q': 42, 'R': 43, 'S': 44, 'T': 45, 'U': 46, 'V': 47, 'W': 48, 'X': 49, 'Y': 50, 'Z': 51, '0': 52, '1': 53, '2': 54, '3': 55, '4': 56, '5': 57, '6': 58, '7': 59, '8': 60, '9': 61, '¢': 62, '£': 63, '§': 64, '©': 65, '®': 66, 'à': 67, 'á': 68, 'â': 69, 'ã': 70, 'ä': 71, 'å': 72, 'æ': 73, 'ç': 74, 'è': 75, 'é': 76, 'ê': 77, 'ë': 78, 'ì': 79, 'í': 80, 'î': 81, 'ï': 82, 'ð': 83, 'ñ': 84, 'ò': 85, 'ó': 86, 'ô': 87, 'õ': 88, 'ö': 89, 'ù': 90, 'ú': 91, 'û': 92, 'ü': 93, '₤': 94}\n",
            "Char to num dictionary length (ont-hot encoding size)=95\n"
          ],
          "name": "stdout"
        }
      ]
    },
    {
      "cell_type": "markdown",
      "metadata": {
        "id": "vNJ2CeO2AY0E"
      },
      "source": [
        "#### 2.2.1.2 Process training data for character embedding\n",
        "\n",
        "* Step1: Create bag of words\n",
        "* Step2: Remove duplicated words\n",
        "* Step3: Convert each word to list of char indices"
      ]
    },
    {
      "cell_type": "code",
      "metadata": {
        "outputId": "26566310-eadc-41bc-9c1c-76b9e723c974",
        "id": "Mj9vQRi8CwDv",
        "colab": {
          "base_uri": "https://localhost:8080/",
          "height": 272,
          "referenced_widgets": [
            "6d6f98d7bbf74fd9a94b67c16e87d081",
            "8ddc35b2fa77458eb98debf15582ff45",
            "05280f7f2c36458f9a84ba1fc2c26ceb",
            "7b600b59757a4e829863cb0ef3d71779",
            "954a7e22a2b7438cab00da9695857169",
            "a616fe587f4e4b80af8745177fb39bd9",
            "a1d180709f7946b4b185fb7d841b4a32",
            "19f773b29fe841c392dbcf63d8c28ab4"
          ]
        }
      },
      "source": [
        "from tqdm.notebook import tqdm\n",
        "word_to_charindex = {}\n",
        "\n",
        "def convert_string_to_charnums(data, word_to_charindex):\n",
        "  \"\"\"Convert list of tokens in string format to integer format.\"\"\"\n",
        "  for tokens in tqdm(data):\n",
        "    for word in tokens:\n",
        "      if word not in word_to_charindex:\n",
        "        num_list = []\n",
        "        for s in word:\n",
        "          num = char_to_num_dict.get(s, None)\n",
        "          if num is None:\n",
        "            continue\n",
        "          num_list.append(num)\n",
        "        word_to_charindex[word] = num_list\n",
        "  return word_to_charindex\n",
        "\n",
        "# populate word_to_charindex with training data\n",
        "word_to_charindex = convert_string_to_charnums(train_text_sm, word_to_charindex)\n",
        "\n",
        "print(f'Length of word to char index (train size)={len(word_to_charindex)}')\n",
        "# quick check\n",
        "i = 0\n",
        "for key, value in word_to_charindex.items():\n",
        "  print(key, value)\n",
        "  i += 1\n",
        "  if i > 10:\n",
        "    break\n",
        "  "
      ],
      "execution_count": null,
      "outputs": [
        {
          "output_type": "display_data",
          "data": {
            "application/vnd.jupyter.widget-view+json": {
              "model_id": "6d6f98d7bbf74fd9a94b67c16e87d081",
              "version_minor": 0,
              "version_major": 2
            },
            "text/plain": [
              "HBox(children=(IntProgress(value=0, max=25000), HTML(value='')))"
            ]
          },
          "metadata": {
            "tags": []
          }
        },
        {
          "output_type": "stream",
          "text": [
            "\n",
            "Length of word to char index (train size)=93064\n",
            "I [34]\n",
            "enjoy [4, 13, 9, 14, 24]\n",
            "movi [12, 14, 21, 8]\n",
            "havent [7, 0, 21, 4, 13, 19]\n",
            "seen [18, 4, 4, 13]\n",
            "andi [0, 13, 3, 8]\n",
            "griffith [6, 17, 8, 5, 5, 8, 19, 7]\n",
            "age [0, 6, 4]\n",
            "felt [5, 4, 11, 19]\n",
            "fit [5, 8, 19]\n",
            "role [17, 14, 11, 4]\n"
          ],
          "name": "stdout"
        }
      ]
    },
    {
      "cell_type": "code",
      "metadata": {
        "id": "PmgEmyi3Sr0R",
        "outputId": "1b5714ef-fefc-4d0e-f3c0-c698fcee557c",
        "colab": {
          "base_uri": "https://localhost:8080/",
          "height": 329
        }
      },
      "source": [
        "import matplotlib.pyplot as pl\n",
        "\n",
        "\n",
        "word_lengths = [len(word) for word in word_to_charindex]\n",
        "pl.hist(word_lengths)\n",
        "pl.xlabel('Word length')\n",
        "pl.ylabel('Count')\n",
        "pl.title('Histogram of word length')\n",
        "pl.show()\n",
        "\n",
        "max_word_len = 40\n",
        "print('Maximum allow word length=', max_word_len)\n",
        "\n",
        "\n",
        "def add_paddings(word):\n",
        "  \"\"\"Add padding to word if length is less than max len or cut characters after max length.\"\"\"\n",
        "  word = word[:max_word_len]\n",
        "  diff = max_word_len-len(word)\n",
        "  for x in range(diff):\n",
        "    word += \"P\"\n",
        "  return word\n",
        "\n",
        "\n",
        "print(f'Add padding to \"enjoy\"=\"{add_paddings(\"enjoy\")}\"')"
      ],
      "execution_count": null,
      "outputs": [
        {
          "output_type": "display_data",
          "data": {
            "image/png": "[encoded data removed]",
            "text/plain": [
              "<Figure size 432x288 with 1 Axes>"
            ]
          },
          "metadata": {
            "tags": [],
            "needs_background": "light"
          }
        },
        {
          "output_type": "stream",
          "text": [
            "Maximum allow word length= 40\n",
            "Add padding to \"enjoy\"=\"enjoyPPPPPPPPPPPPPPPPPPPPPPPPPPPPPPPPPPP\"\n"
          ],
          "name": "stdout"
        }
      ]
    },
    {
      "cell_type": "markdown",
      "metadata": {
        "id": "vbuoRbvzAGFV"
      },
      "source": [
        "**Define batch function**"
      ]
    },
    {
      "cell_type": "code",
      "metadata": {
        "id": "JAToILt-AKGi",
        "outputId": "d4a16ebc-16c7-4937-f51f-936b39eaf4c7",
        "colab": {
          "base_uri": "https://localhost:8080/",
          "height": 1000
        }
      },
      "source": [
        "import numpy as np\n",
        "word_ind_dict = {w: i for i, w in enumerate(word_to_charindex)}\n",
        "\n",
        "# define get batch function for character embedding model\n",
        "def get_batch_charembed(seq_data, size, iteration):\n",
        "  \"\"\"Return a batch of given size from skip gram.\n",
        "  \n",
        "    Input: onehot encoding of characters e.g. \"b\", \"e\", \"s\", \"t\"\n",
        "    Output: the word e.g. \"best\"\n",
        "\n",
        "  Parameter\n",
        "  ---------\n",
        "  seq_data: sequence of tokens\n",
        "  size: batch size\n",
        "  iteration: num\n",
        "\n",
        "  Output\n",
        "  ------\n",
        "  batch_inputs\n",
        "  batch_labels\n",
        "\n",
        "  \"\"\"\n",
        "  batch_inputs = []\n",
        "  batch_labels = []\n",
        "  start_index = iteration * size\n",
        "  end_index = (iteration + 1) * size\n",
        "  keys = list(word_to_charindex.keys())\n",
        "  for i in range(start_index, end_index):\n",
        "    tokens = seq_data[i]\n",
        "    for word in tokens:\n",
        "      pad_word = add_paddings(word)\n",
        "      num_list = [char_to_num_dict[x] for x in pad_word if x in char_to_num_dict]\n",
        "      input_temp = np.zeros((max_word_len, char_len))\n",
        "      for count, ind in enumerate(num_list):\n",
        "        input_temp[count, ind] = 1\n",
        "      batch_inputs.append(input_temp)  # char list\n",
        "      batch_labels.append(word_ind_dict[word])  # target word\n",
        "  batch_inputs = np.array(batch_inputs)\n",
        "  return batch_inputs, np.array(batch_labels)\n",
        "\n",
        "# quick check\n",
        "batch_inputs = []\n",
        "for word in train_text_sm[0]:\n",
        "  num_list = word_to_charindex[word]\n",
        "  input_temp = np.zeros((len(num_list), char_len))\n",
        "  for count, ind in enumerate(num_list):\n",
        "    input_temp[count, ind] = 1\n",
        "  batch_inputs.append(input_temp)\n",
        "np.array(batch_inputs).shape\n",
        "\n",
        "\n",
        "size = 2\n",
        "print(f'Try to get a batch of size={size} on iteration=0')\n",
        "binput, blabel = get_batch_charembed(train_text_sm, size, 0)\n",
        "print(binput)\n",
        "print(blabel)\n",
        "print(f'batch input size = {binput.shape}')\n"
      ],
      "execution_count": null,
      "outputs": [
        {
          "output_type": "stream",
          "text": [
            "Try to get a batch of size=2 on iteration=0\n",
            "[[[0. 0. 0. ... 0. 0. 0.]\n",
            "  [0. 0. 0. ... 0. 0. 0.]\n",
            "  [0. 0. 0. ... 0. 0. 0.]\n",
            "  ...\n",
            "  [0. 0. 0. ... 0. 0. 0.]\n",
            "  [0. 0. 0. ... 0. 0. 0.]\n",
            "  [0. 0. 0. ... 0. 0. 0.]]\n",
            "\n",
            " [[0. 0. 0. ... 0. 0. 0.]\n",
            "  [0. 0. 0. ... 0. 0. 0.]\n",
            "  [0. 0. 0. ... 0. 0. 0.]\n",
            "  ...\n",
            "  [0. 0. 0. ... 0. 0. 0.]\n",
            "  [0. 0. 0. ... 0. 0. 0.]\n",
            "  [0. 0. 0. ... 0. 0. 0.]]\n",
            "\n",
            " [[0. 0. 0. ... 0. 0. 0.]\n",
            "  [0. 0. 0. ... 0. 0. 0.]\n",
            "  [0. 0. 0. ... 0. 0. 0.]\n",
            "  ...\n",
            "  [0. 0. 0. ... 0. 0. 0.]\n",
            "  [0. 0. 0. ... 0. 0. 0.]\n",
            "  [0. 0. 0. ... 0. 0. 0.]]\n",
            "\n",
            " ...\n",
            "\n",
            " [[0. 0. 0. ... 0. 0. 0.]\n",
            "  [0. 0. 0. ... 0. 0. 0.]\n",
            "  [0. 0. 0. ... 0. 0. 0.]\n",
            "  ...\n",
            "  [0. 0. 0. ... 0. 0. 0.]\n",
            "  [0. 0. 0. ... 0. 0. 0.]\n",
            "  [0. 0. 0. ... 0. 0. 0.]]\n",
            "\n",
            " [[0. 0. 0. ... 0. 0. 0.]\n",
            "  [0. 0. 0. ... 0. 0. 0.]\n",
            "  [0. 0. 0. ... 0. 0. 0.]\n",
            "  ...\n",
            "  [0. 0. 0. ... 0. 0. 0.]\n",
            "  [0. 0. 0. ... 0. 0. 0.]\n",
            "  [0. 0. 0. ... 0. 0. 0.]]\n",
            "\n",
            " [[0. 0. 0. ... 0. 0. 0.]\n",
            "  [0. 0. 0. ... 0. 0. 0.]\n",
            "  [0. 0. 0. ... 0. 0. 0.]\n",
            "  ...\n",
            "  [0. 0. 0. ... 0. 0. 0.]\n",
            "  [0. 0. 0. ... 0. 0. 0.]\n",
            "  [0. 0. 0. ... 0. 0. 0.]]]\n",
            "[  0   1   2   3   4   5   6   7   8   9  10  11  12  13  14  15  16  17\n",
            "  18  19   0  20  21  22  23  24  25  26  27  28  29  30  31  32  33  34\n",
            "  35  36  37  38  39  40  41  42  43  44  45  46  47  48  49  50  51  52\n",
            "  19  53  54  55  56   2  57  58  59  60  61  62  63  64  48  65  66  67\n",
            "  68  69  70  71  72  73  74  75  76  77  78  79  80  81  82  83  84  85\n",
            "  86  87  88  89  90  91  92  93  94  95  76  96  97  98  99 100 101 102\n",
            " 103  57 104 105  99 106  90 107 108  37 109  78 110 111 112  85  82 113\n",
            " 114 115 116 117  77  84 118 108 113 119   0 120 121 122 123 124 125]\n",
            "batch input size = (143, 40, 95)\n"
          ],
          "name": "stdout"
        }
      ]
    },
    {
      "cell_type": "markdown",
      "metadata": {
        "id": "zgiOPcsTGlI6"
      },
      "source": [
        "### 2.2.2. Build Character Embeddings Model"
      ]
    },
    {
      "cell_type": "markdown",
      "metadata": {
        "id": "4NtqFFcjGlI7"
      },
      "source": [
        "*You are required to describe how hyperparameters were decided with justification of your decision.*"
      ]
    },
    {
      "cell_type": "code",
      "metadata": {
        "id": "jj3YZ3PWGlI8",
        "outputId": "36eb5caf-1623-49b7-93d4-8544efc6c480",
        "colab": {
          "base_uri": "https://localhost:8080/",
          "height": 71
        }
      },
      "source": [
        "import torch\n",
        "import torch.nn as nn\n",
        "import torch.optim as optim\n",
        "import torch.nn.functional as F\n",
        "from sklearn.metrics import accuracy_score\n",
        "\n",
        "#### Hyperparameters\n",
        "learning_rate = 0.01\n",
        "n_hidden = 128\n",
        "no_of_epochs = 150\n",
        "n_step = max_word_len\n",
        "n_input = char_len\n",
        "n_class = len(word_to_charindex)\n",
        "dropout = 0.2\n",
        "batch_size = 10\n",
        "\n",
        "#### Model\n",
        "class CharacterEmbed(nn.Module):\n",
        "\n",
        "  def __init__(self):\n",
        "    super(CharacterEmbed, self).__init__()\n",
        "    self.lstm = nn.LSTM(n_input, n_hidden, batch_first=True, bidirectional=True, dropout=dropout)\n",
        "    self.linear = nn.Linear(n_hidden * 2, n_class)\n",
        "\n",
        "  def forward(self, sentence):\n",
        "    lstm_out, (h_n,c_n) = self.lstm(sentence)\n",
        "    #concat the last hidden state from two direction\n",
        "    hidden_out =torch.cat((h_n[0,:,:],h_n[1,:,:]),1)\n",
        "    z = self.linear(hidden_out)\n",
        "    log_output = F.log_softmax(z, dim=1)\n",
        "    return log_output\n",
        "\n",
        "\n",
        "char_embed_model = CharacterEmbed()\n",
        "criterion = nn.NLLLoss()\n",
        "optimiser = optim.Adam(char_embed_model.parameters(), lr=learning_rate)\n"
      ],
      "execution_count": null,
      "outputs": [
        {
          "output_type": "stream",
          "text": [
            "/usr/local/lib/python3.6/dist-packages/torch/nn/modules/rnn.py:50: UserWarning: dropout option adds dropout after all but last recurrent layer, so non-zero dropout expects num_layers greater than 1, but got dropout=0.2 and num_layers=1\n",
            "  \"num_layers={}\".format(dropout, num_layers))\n"
          ],
          "name": "stderr"
        }
      ]
    },
    {
      "cell_type": "markdown",
      "metadata": {
        "id": "46W0zFfWGlI_"
      },
      "source": [
        "### 2.1.4. Train Character Embeddings Model"
      ]
    },
    {
      "cell_type": "code",
      "metadata": {
        "id": "UWQn-VyNGlJA",
        "outputId": "620b04b8-f739-4ef3-cdaa-b50935f43027",
        "colab": {
          "base_uri": "https://localhost:8080/",
          "height": 601,
          "referenced_widgets": [
            "789809de28ce4a4ba0245cf7015c552a",
            "fd62bc7b33b24e53a9d256654c93d5e9",
            "60efdc3c4dd64f03abe73f96fd82c1ee",
            "4ed4760d13b74e78b37f78b3eda2166b",
            "1710c40aeef64279a7c9651fb5a57d73",
            "60fd9ed004b34bf6a8b7f23daeb64af8",
            "3ded2a66927444de83bc5722ec3d21b3",
            "813ed2d39b654ec5a9f94bfc561e5743"
          ]
        }
      },
      "source": [
        "losses2 = []\n",
        "\n",
        "for epoch in tqdm(range(no_of_epochs)):\n",
        "    inputs,labels = get_batch_charembed(train_text_sm, batch_size, no_of_epochs) # make batch every epoch\n",
        "    inputs_torch = torch.from_numpy(inputs).float()\n",
        "    labels_torch = torch.from_numpy(labels)\n",
        "\n",
        "    # 1. zero grad\n",
        "    optimiser.zero_grad()\n",
        "\n",
        "    # 2. forword propagation\n",
        "    outputs = char_embed_model(inputs_torch)\n",
        "\n",
        "    # 3. calculate loss\n",
        "    loss = criterion(outputs, labels_torch)\n",
        "\n",
        "    # 4. back propagation\n",
        "    loss.backward()\n",
        "    optimiser.step()\n",
        "    \n",
        "    losses2.append(loss)\n",
        "    if epoch % 10 == 0: \n",
        "        pred_outputs = char_embed_model(inputs_torch)\n",
        "        predicted = torch.argmax(outputs, 1)\n",
        "        train_acc = accuracy_score(predicted.numpy(), labels)\n",
        "        print('Epoch: %d, loss: %.4f, train_acc: %.3f' %(epoch, loss, train_acc))\n",
        "\n",
        "pl.plot(range(no_of_epochs), losses2)\n",
        "pl.xlabel('Epochs')\n",
        "pl.ylabel('Loss')\n",
        "pl.title(f'Character Embedding: Learn_rate={learning_rate} Batch={batch_size}')\n",
        "pl.show()"
      ],
      "execution_count": null,
      "outputs": [
        {
          "output_type": "display_data",
          "data": {
            "application/vnd.jupyter.widget-view+json": {
              "model_id": "789809de28ce4a4ba0245cf7015c552a",
              "version_minor": 0,
              "version_major": 2
            },
            "text/plain": [
              "HBox(children=(IntProgress(value=0, max=150), HTML(value='')))"
            ]
          },
          "metadata": {
            "tags": []
          }
        },
        {
          "output_type": "stream",
          "text": [
            "Epoch: 0, loss: 11.4412, train_acc: 0.000\n",
            "Epoch: 10, loss: 6.4192, train_acc: 0.020\n",
            "Epoch: 20, loss: 6.1973, train_acc: 0.050\n",
            "Epoch: 30, loss: 5.7685, train_acc: 0.034\n",
            "Epoch: 40, loss: 4.8237, train_acc: 0.118\n",
            "Epoch: 50, loss: 3.7670, train_acc: 0.233\n",
            "Epoch: 60, loss: 2.6196, train_acc: 0.443\n",
            "Epoch: 70, loss: 1.7129, train_acc: 0.649\n",
            "Epoch: 80, loss: 0.9756, train_acc: 0.853\n",
            "Epoch: 90, loss: 0.5326, train_acc: 0.949\n",
            "Epoch: 100, loss: 0.2836, train_acc: 0.983\n",
            "Epoch: 110, loss: 0.1563, train_acc: 0.999\n",
            "Epoch: 120, loss: 0.0940, train_acc: 1.000\n",
            "Epoch: 130, loss: 0.0623, train_acc: 1.000\n",
            "Epoch: 140, loss: 0.0455, train_acc: 1.000\n",
            "\n"
          ],
          "name": "stdout"
        },
        {
          "output_type": "display_data",
          "data": {
            "image/png": "[encoded data removed]",
            "text/plain": [
              "<Figure size 432x288 with 1 Axes>"
            ]
          },
          "metadata": {
            "tags": [],
            "needs_background": "light"
          }
        }
      ]
    },
    {
      "cell_type": "markdown",
      "metadata": {
        "id": "R5Bym9bBGlJE"
      },
      "source": [
        "### 2.1.5. Save Character Embeddings Model"
      ]
    },
    {
      "cell_type": "code",
      "metadata": {
        "id": "ggTsYIm7GlJF",
        "outputId": "69443c43-e1c8-481c-e3ef-2e1763b892c2",
        "colab": {
          "base_uri": "https://localhost:8080/",
          "height": 88
        }
      },
      "source": [
        "# mount to my drive\n",
        "from google.colab import drive\n",
        "drive.mount('/content/drive')\n",
        "\n",
        "# save model\n",
        "char_model_file_name = f'drive/My Drive/character_embedding_lr={learning_rate}_batch={batch_size}.pt'\n",
        "torch.save(char_embed_model, char_model_file_name)"
      ],
      "execution_count": null,
      "outputs": [
        {
          "output_type": "stream",
          "text": [
            "Drive already mounted at /content/drive; to attempt to forcibly remount, call drive.mount(\"/content/drive\", force_remount=True).\n"
          ],
          "name": "stdout"
        },
        {
          "output_type": "stream",
          "text": [
            "/usr/local/lib/python3.6/dist-packages/torch/serialization.py:360: UserWarning: Couldn't retrieve source code for container of type CharacterEmbed. It won't be checked for correctness upon loading.\n",
            "  \"type \" + obj.__name__ + \". It won't be checked \"\n"
          ],
          "name": "stderr"
        }
      ]
    },
    {
      "cell_type": "markdown",
      "metadata": {
        "id": "JwOI-wIKGlJI"
      },
      "source": [
        "### 2.1.6. Load Character Embeddings Model"
      ]
    },
    {
      "cell_type": "code",
      "metadata": {
        "id": "4-jyj-lOHWWj",
        "outputId": "5d88e945-f9af-448f-afdf-1f84687cd5d1",
        "colab": {
          "base_uri": "https://localhost:8080/",
          "height": 86
        }
      },
      "source": [
        "# load model\n",
        "saved_char_embed_model = torch.load(char_model_file_name)\n",
        "saved_char_embed_model.eval()"
      ],
      "execution_count": null,
      "outputs": [
        {
          "output_type": "execute_result",
          "data": {
            "text/plain": [
              "CharacterEmbed(\n",
              "  (lstm): LSTM(95, 128, batch_first=True, dropout=0.2, bidirectional=True)\n",
              "  (linear): Linear(in_features=256, out_features=93064, bias=True)\n",
              ")"
            ]
          },
          "metadata": {
            "tags": []
          },
          "execution_count": 31
        }
      ]
    },
    {
      "cell_type": "markdown",
      "metadata": {
        "id": "tlCeWT8eeLnd"
      },
      "source": [
        "## 2.3. Sequence model"
      ]
    },
    {
      "cell_type": "markdown",
      "metadata": {
        "id": "fwA-NN3EJ4Ig"
      },
      "source": [
        "### 2.3.1. Apply/Import Word Embedding and Character Embedding Model"
      ]
    },
    {
      "cell_type": "markdown",
      "metadata": {
        "id": "UAMJrxx-iOVn"
      },
      "source": [
        "*You are required to describe how hyperparameters were decided with justification of your decision.*"
      ]
    },
    {
      "cell_type": "code",
      "metadata": {
        "id": "g7PKX1gIePA2",
        "outputId": "f26962ac-153f-40d3-cbd7-5676406e8899",
        "colab": {
          "base_uri": "https://localhost:8080/",
          "height": 191
        }
      },
      "source": [
        "# mount to my drive\n",
        "from google.colab import drive\n",
        "drive.mount('/content/drive')\n",
        "\n",
        "# load pre-trained word embedding model\n",
        "model_file_name = 'drive/My Drive/word_embedding_lr=0.002_batch=200_embed=25.pt'\n",
        "saved_skip_gram_model = torch.load(model_file_name)\n",
        "print(saved_skip_gram_model.eval())\n",
        "\n",
        "# load pre-trained character embedding model\n",
        "char_model_file_name = 'drive/My Drive/character_embedding_lr=0.01_batch=10.pt'\n",
        "saved_char_embed_model = torch.load(char_model_file_name)\n",
        "print(saved_char_embed_model.eval())"
      ],
      "execution_count": null,
      "outputs": [
        {
          "output_type": "stream",
          "text": [
            "Drive already mounted at /content/drive; to attempt to forcibly remount, call drive.mount(\"/content/drive\", force_remount=True).\n",
            "SkipGram(\n",
            "  (linear1): Linear(in_features=143366, out_features=25, bias=False)\n",
            "  (linear2): Linear(in_features=25, out_features=143366, bias=False)\n",
            ")\n",
            "CharacterEmbed(\n",
            "  (lstm): LSTM(95, 128, batch_first=True, dropout=0.2, bidirectional=True)\n",
            "  (linear): Linear(in_features=256, out_features=93064, bias=True)\n",
            ")\n"
          ],
          "name": "stdout"
        }
      ]
    },
    {
      "cell_type": "markdown",
      "metadata": {
        "id": "DpYCL17JKZxl"
      },
      "source": [
        "### 2.3.2. Build Sequence Model"
      ]
    },
    {
      "cell_type": "markdown",
      "metadata": {
        "id": "R204UIyDKhZ4"
      },
      "source": [
        "*You are required to describe how hyperparameters were decided with justification of your decision.*"
      ]
    },
    {
      "cell_type": "code",
      "metadata": {
        "id": "13eCtR_SLUG6",
        "outputId": "0ab29625-c1a5-45b2-c9d2-8374669ae680",
        "colab": {
          "base_uri": "https://localhost:8080/",
          "height": 298
        }
      },
      "source": [
        "# check out sequence length distribution\n",
        "sequence_lens = [len(tokens) for tokens in train_text_sm]\n",
        "pl.hist(sequence_lens)\n",
        "pl.title('Histogram of sequence length distribution')\n",
        "pl.show()\n",
        "\n",
        "max_len = 600\n",
        "quantile = round(len([x for x in sequence_lens if x <= max_len]) / len(sequence_lens) * 100, 2)\n",
        "print(f'There are {quantile}% sequence whose length is less than or equal to max length={max_len}')"
      ],
      "execution_count": null,
      "outputs": [
        {
          "output_type": "display_data",
          "data": {
            "image/png": "[encoded data removed]",
            "text/plain": [
              "<Figure size 432x288 with 1 Axes>"
            ]
          },
          "metadata": {
            "tags": [],
            "needs_background": "light"
          }
        },
        {
          "output_type": "stream",
          "text": [
            "There are 99.86% sequence whose length is less than or equal to max length=600\n"
          ],
          "name": "stdout"
        }
      ]
    },
    {
      "cell_type": "markdown",
      "metadata": {
        "id": "6jiGbQX2cWyL"
      },
      "source": [
        "Based on the histogram, we can see almost all sequence length are less than 600 with only few outliers. Hence we can set the maximum input length to be 600.\n"
      ]
    },
    {
      "cell_type": "code",
      "metadata": {
        "id": "qryBaRLbcoy9",
        "outputId": "c4066a59-2863-47e6-b427-10ab70267df8",
        "colab": {
          "base_uri": "https://localhost:8080/",
          "height": 140
        }
      },
      "source": [
        "# obtain hidden weights of word embedding model\n",
        "word_weight1 = saved_skip_gram_model.linear1.weight\n",
        "trained_word_embeddings = word_weight1.detach().T.numpy()\n",
        "\n",
        "# helper function - retrieve embedding vector for a word given trained embedding\n",
        "def get_embedding_vector(trained_embeddings, word):\n",
        "  \"\"\"Compute similarity score given two words and word embedding.\"\"\"\n",
        "  i= word_dict[word]\n",
        "  embed = trained_embeddings[i]\n",
        "  return embed\n",
        "\n",
        "\n",
        "# quick check\n",
        "test_word = 'enjoy'\n",
        "test_word_embed_vec = get_embedding_vector(trained_word_embeddings, test_word)\n",
        "print(f'Word embedding for {test_word}={test_word_embed_vec}\\n Shape={test_word_embed_vec.shape}' )"
      ],
      "execution_count": null,
      "outputs": [
        {
          "output_type": "stream",
          "text": [
            "Word embedding for enjoy=[ 0.1773694  -0.17408924  0.18397018 -0.18018363 -0.15502301  0.17706983\n",
            "  0.17551203  0.18119349 -0.13586627 -0.18078697 -0.16100952  0.14117928\n",
            " -0.20514096  0.184316   -0.15940486  0.19345565  0.20464426  0.20103537\n",
            " -0.20199361 -0.15718627 -0.17094243  0.17064911 -0.18375415 -0.0189662\n",
            "  0.16508652]\n",
            " Shape=(25,)\n"
          ],
          "name": "stdout"
        }
      ]
    },
    {
      "cell_type": "code",
      "metadata": {
        "id": "eiWDkrovf1yn"
      },
      "source": [
        "# obtain hidden weights of character embedding model\n",
        "character_weight1 = saved_char_embed_model.linear.weight\n",
        "trained_char_embeddings = character_weight1.detach().T.numpy()\n",
        "\n",
        "\n",
        "# # helper function - retrieve embedding vector for a word given trained embedding\n",
        "# def get_embedding_vector(trained_embeddings, word):\n",
        "#   \"\"\"Compute similarity score given two words and word embedding.\"\"\"\n",
        "#   i= word_dict[word]\n",
        "#   embed = trained_embeddings[i]\n",
        "#   return embed\n",
        "\n",
        "\n",
        "# # quick check\n",
        "# test_word = 'enjoy'\n",
        "# test_word_embed_vec = get_embedding_vector(trained_word_embeddings, test_word)\n",
        "# test_char_embed_vec = get_embedding_vector(trained_char_embeddings, test_word)\n",
        "# print(f'Word embedding for {test_word}={test_word_embed_vec}\\n Shape={test_word_embed_vec.shape}' )\n",
        "# print(f'Character embedding for {test_word}={test_char_embed_vec}\\n Shape={test_char_embed_vec.shape}' )\n",
        "\n",
        "\n",
        "\n",
        "\n",
        "\n",
        "\n"
      ],
      "execution_count": null,
      "outputs": []
    },
    {
      "cell_type": "markdown",
      "metadata": {
        "id": "6BaOiaGRLW7R"
      },
      "source": [
        "### 2.3.3. Train Sequence Model"
      ]
    },
    {
      "cell_type": "code",
      "metadata": {
        "id": "lVQnUSX1LZ6C"
      },
      "source": [
        "# Please comment your code"
      ],
      "execution_count": null,
      "outputs": []
    },
    {
      "cell_type": "markdown",
      "metadata": {
        "id": "-2feNpG-LZx2"
      },
      "source": [
        "### 2.3.4. Save Sequence Model"
      ]
    },
    {
      "cell_type": "code",
      "metadata": {
        "id": "sflUAgV4L1o8"
      },
      "source": [
        "# Please comment your code"
      ],
      "execution_count": null,
      "outputs": []
    },
    {
      "cell_type": "markdown",
      "metadata": {
        "id": "4zFo6YppL6w3"
      },
      "source": [
        "### 2.3.5. Load Sequence Model"
      ]
    },
    {
      "cell_type": "code",
      "metadata": {
        "id": "OtNxLzDGMCan"
      },
      "source": [
        "# Please comment your code"
      ],
      "execution_count": null,
      "outputs": []
    },
    {
      "cell_type": "markdown",
      "metadata": {
        "id": "a4mpRpocePLN"
      },
      "source": [
        "# 3 - Evaluation\n",
        "\n",
        "(*Please show your empirical evidence*)"
      ]
    },
    {
      "cell_type": "markdown",
      "metadata": {
        "id": "KEW1zMgVMREr"
      },
      "source": [
        "## 3.1. Performance Evaluation\n",
        "\n",
        "\n",
        "You are required to provide the table with precision, recall, f1 of test set."
      ]
    },
    {
      "cell_type": "code",
      "metadata": {
        "id": "LPHCb-bneTI9"
      },
      "source": [
        "# Please comment your code"
      ],
      "execution_count": null,
      "outputs": []
    },
    {
      "cell_type": "markdown",
      "metadata": {
        "id": "P28Z1k36MZuo"
      },
      "source": [
        "## 3.2. Hyperparameter Testing\n",
        "*You are required to draw a graph(y-axis: f1, x-axis: epoch) for test set and explain the optimal number of epochs based on the learning rate you have already chosen.*"
      ]
    },
    {
      "cell_type": "code",
      "metadata": {
        "id": "wTLyQEeZMZ2f"
      },
      "source": [
        "# Please comment your code"
      ],
      "execution_count": null,
      "outputs": []
    },
    {
      "cell_type": "markdown",
      "metadata": {
        "id": "sfv8rWTKPzeb"
      },
      "source": [
        "## Object Oriented Programming codes here"
      ]
    },
    {
      "cell_type": "markdown",
      "metadata": {
        "id": "TS23AjBRSZaX"
      },
      "source": [
        "*You can use multiple code snippets. Just add more if needed* "
      ]
    },
    {
      "cell_type": "code",
      "metadata": {
        "id": "1hVmx4E52dXS"
      },
      "source": [
        "# If you used OOP style, use this section"
      ],
      "execution_count": null,
      "outputs": []
    }
  ]
}